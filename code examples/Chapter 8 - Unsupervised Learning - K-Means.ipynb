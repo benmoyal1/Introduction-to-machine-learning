{
 "cells": [
  {
   "cell_type": "markdown",
   "metadata": {},
   "source": [
    "# Chapter 8 - Unsupervised Learning - K-Means\n",
    "The following consists of a minimal implementation of the K-Means algorithm, as well as a plotting function to show the different steps performed by the algorithms from initialization to convergence."
   ]
  },
  {
   "cell_type": "code",
   "execution_count": 1,
   "metadata": {},
   "outputs": [],
   "source": [
    "import sys\n",
    "sys.path.append(\"../\")\n",
    "from utils import *"
   ]
  },
  {
   "cell_type": "code",
   "execution_count": 2,
   "metadata": {},
   "outputs": [],
   "source": [
    "def animate_kmeans(X, est, save_to = None, frame_duration=1000):\n",
    "    import plotly.express as px\n",
    "    colors = np.array([\"lightgrey\"] + px.colors.qualitative.Plotly)\n",
    "    \n",
    "    frames = []\n",
    "    frames.append(go.Frame(data=[go.Scatter(x=X[:,0], y=X[:,1], mode=\"markers\", marker=dict(symbol=\"circle-open\",color=colors[est.assignments[0]+1]), name=\"Data-points\"),\n",
    "                                 go.Scatter(x=est.centroids[0][:,0], y=est.centroids[0][:,1], mode=\"markers\", marker=dict(symbol=\"x\",color=colors[1:], size=10), name=\"Centroids\")],\n",
    "                       layout=go.Layout(title_text=\"Initialization\")))\n",
    "    \n",
    "    for i in range(1, len(est.centroids)-1):          \n",
    "        frames.append(go.Frame(data=[go.Scatter(x=X[:,0], y=X[:,1], mode=\"markers\", marker=dict(symbol=\"circle-open\",color=colors[est.assignments[i]+1]),name=\"Data-points\"),\n",
    "                         go.Scatter(x=est.centroids[i-1][:,0], y=est.centroids[i-1][:,1], mode=\"markers\", marker=dict(symbol=\"x\",color=colors[1:], size=10), name=\"Centroids\")],\n",
    "                   layout=go.Layout(title_text=f\"Iteration {i} - Assignment Step\")))\n",
    "        \n",
    "        title = f\"Converged - Required {len(est.centroids)-2 } Iterations - Final Cost {round(est.costs[i], 3)}\" if i == len(est.centroids)-2 else \\\n",
    "                f\"Iteration {i} - Update Centroids Step - Cost {round(est.costs[i], 3)}\"\n",
    "        \n",
    "        frames.append(go.Frame(data=[go.Scatter(x=X[:,0], y=X[:,1], mode=\"markers\", marker=dict(symbol=\"circle-open\",color=colors[est.assignments[i]+1]), name=\"Data-points\"),\n",
    "                                     go.Scatter(x=est.centroids[i][:,0], y=est.centroids[i][:,1], mode=\"markers\", marker=dict(symbol=\"x\",color=colors[1:], size=10), name=\"Centroids\", )],\n",
    "                               layout=go.Layout(title_text=title)))\n",
    "        \n",
    "    \n",
    "    fig = go.Figure(data=frames[0][\"data\"],\n",
    "            frames=frames,\n",
    "            layout=go.Layout(\n",
    "                title=frames[0][\"layout\"][\"title\"],\n",
    "                updatemenus=[dict(visible=True,\n",
    "                                  type=\"buttons\",\n",
    "                                  buttons=[dict(label=\"Play\",\n",
    "                                                method=\"animate\",\n",
    "                                                args=[None, dict(frame={\"duration\":frame_duration}) ]),\n",
    "                                          \n",
    "                                          dict(label=\"Pause\",\n",
    "                                               method=\"animate\",\n",
    "                                               args=[[None], {\"frame\": {\"duration\": 0, \"redraw\": False},\n",
    "                                                              \"mode\": \"immediate\",\n",
    "                                                              \"transition\": {\"duration\": 0}}])])]  ))\n",
    "    \n",
    "    if save_to:\n",
    "        animation_to_gif(fig, save_to, frame_duration) \n",
    "    return fig"
   ]
  },
  {
   "cell_type": "markdown",
   "metadata": {},
   "source": [
    "### Basic Scenario\n",
    "In the following we generate a dataset from 4 Gaussians with equal covarianec matrix. In addition, the number of samples drawn from each Gaussian is identical."
   ]
  },
  {
   "cell_type": "code",
   "execution_count": 3,
   "metadata": {},
   "outputs": [
    {
     "ename": "NameError",
     "evalue": "name 'K_Means' is not defined",
     "output_type": "error",
     "traceback": [
      "\u001B[1;31m---------------------------------------------------------------------------\u001B[0m",
      "\u001B[1;31mNameError\u001B[0m                                 Traceback (most recent call last)",
      "Cell \u001B[1;32mIn[3], line 5\u001B[0m\n\u001B[0;32m      1\u001B[0m X \u001B[38;5;241m=\u001B[39m np\u001B[38;5;241m.\u001B[39mconcatenate([np\u001B[38;5;241m.\u001B[39mrandom\u001B[38;5;241m.\u001B[39mmultivariate_normal([\u001B[38;5;241m0\u001B[39m, \u001B[38;5;241m0\u001B[39m], [[\u001B[38;5;241m1\u001B[39m,\u001B[38;5;241m0\u001B[39m],[\u001B[38;5;241m0\u001B[39m,\u001B[38;5;241m1\u001B[39m]], \u001B[38;5;241m30\u001B[39m),\n\u001B[0;32m      2\u001B[0m                     np\u001B[38;5;241m.\u001B[39mrandom\u001B[38;5;241m.\u001B[39mmultivariate_normal([\u001B[38;5;241m6\u001B[39m,\u001B[38;5;241m0\u001B[39m], [[\u001B[38;5;241m1\u001B[39m,\u001B[38;5;241m0\u001B[39m],[\u001B[38;5;241m0\u001B[39m,\u001B[38;5;241m1\u001B[39m]], \u001B[38;5;241m30\u001B[39m),\n\u001B[0;32m      3\u001B[0m                     np\u001B[38;5;241m.\u001B[39mrandom\u001B[38;5;241m.\u001B[39mmultivariate_normal([\u001B[38;5;241m2\u001B[39m,\u001B[38;5;241m4\u001B[39m], [[\u001B[38;5;241m1\u001B[39m,\u001B[38;5;241m0\u001B[39m],[\u001B[38;5;241m0\u001B[39m,\u001B[38;5;241m1\u001B[39m]], \u001B[38;5;241m30\u001B[39m),\n\u001B[0;32m      4\u001B[0m                     np\u001B[38;5;241m.\u001B[39mrandom\u001B[38;5;241m.\u001B[39mmultivariate_normal([\u001B[38;5;241m5.5\u001B[39m,\u001B[38;5;241m5\u001B[39m], [[\u001B[38;5;241m1\u001B[39m,\u001B[38;5;241m0\u001B[39m],[\u001B[38;5;241m0\u001B[39m,\u001B[38;5;241m1\u001B[39m]], \u001B[38;5;241m30\u001B[39m)])\n\u001B[1;32m----> 5\u001B[0m animate_kmeans(X, \u001B[43mK_Means\u001B[49m(\u001B[38;5;241m4\u001B[39m)\u001B[38;5;241m.\u001B[39mfit(X), frame_duration\u001B[38;5;241m=\u001B[39m\u001B[38;5;241m1000\u001B[39m, save_to\u001B[38;5;241m=\u001B[39m\u001B[38;5;124m\"\u001B[39m\u001B[38;5;124m../kmeans-basic.gif\u001B[39m\u001B[38;5;124m\"\u001B[39m)\n",
      "\u001B[1;31mNameError\u001B[0m: name 'K_Means' is not defined"
     ]
    }
   ],
   "source": [
    "X = np.concatenate([np.random.multivariate_normal([0, 0], [[1,0],[0,1]], 30),\n",
    "                    np.random.multivariate_normal([6,0], [[1,0],[0,1]], 30),\n",
    "                    np.random.multivariate_normal([2,4], [[1,0],[0,1]], 30),\n",
    "                    np.random.multivariate_normal([5.5,5], [[1,0],[0,1]], 30)])\n",
    "animate_kmeans(X, K_Means(4).fit(X), frame_duration=1000, save_to=\"../kmeans-basic.gif\")"
   ]
  },
  {
   "cell_type": "markdown",
   "metadata": {},
   "source": [
    "### Multiple Optimal Solutions Scenario\n",
    "Using a similar dataset to the one above, we will show how for a given centroids choice the algorithm could converge to more than a single solution. Notice that if the `min`/`argmin` operations are stable then as long as the data-points are given in the same order, only one of the optimal solutions will be returned."
   ]
  },
  {
   "cell_type": "code",
   "execution_count": 5,
   "metadata": {},
   "outputs": [
    {
     "data": {
      "application/vnd.plotly.v1+json": {
       "config": {
        "plotlyServerURL": "https://plot.ly"
       },
       "data": [
        {
         "marker": {
          "color": [
           "lightgrey",
           "lightgrey",
           "lightgrey",
           "lightgrey",
           "lightgrey",
           "lightgrey",
           "lightgrey",
           "lightgrey",
           "lightgrey",
           "lightgrey",
           "lightgrey",
           "lightgrey",
           "lightgrey",
           "lightgrey",
           "lightgrey",
           "lightgrey"
          ],
          "symbol": "circle-open"
         },
         "mode": "markers",
         "name": "Data-points",
         "type": "scatter",
         "x": [
          -1,
          0,
          0,
          1,
          9,
          10,
          10,
          11,
          9,
          10,
          10,
          11,
          -1,
          0,
          0,
          1
         ],
         "y": [
          0,
          -1,
          1,
          0,
          10,
          9,
          11,
          10,
          0,
          -1,
          1,
          0,
          10,
          9,
          11,
          10
         ]
        },
        {
         "marker": {
          "color": [
           "#636EFA",
           "#EF553B",
           "#00CC96",
           "#AB63FA",
           "#FFA15A",
           "#19D3F3",
           "#FF6692",
           "#B6E880",
           "#FF97FF",
           "#FECB52"
          ],
          "size": 10,
          "symbol": "x"
         },
         "mode": "markers",
         "name": "Centroids",
         "type": "scatter",
         "x": [
          5,
          5
         ],
         "y": [
          5,
          5
         ]
        }
       ],
       "frames": [
        {
         "data": [
          {
           "marker": {
            "color": [
             "lightgrey",
             "lightgrey",
             "lightgrey",
             "lightgrey",
             "lightgrey",
             "lightgrey",
             "lightgrey",
             "lightgrey",
             "lightgrey",
             "lightgrey",
             "lightgrey",
             "lightgrey",
             "lightgrey",
             "lightgrey",
             "lightgrey",
             "lightgrey"
            ],
            "symbol": "circle-open"
           },
           "mode": "markers",
           "name": "Data-points",
           "type": "scatter",
           "x": [
            -1,
            0,
            0,
            1,
            9,
            10,
            10,
            11,
            9,
            10,
            10,
            11,
            -1,
            0,
            0,
            1
           ],
           "y": [
            0,
            -1,
            1,
            0,
            10,
            9,
            11,
            10,
            0,
            -1,
            1,
            0,
            10,
            9,
            11,
            10
           ]
          },
          {
           "marker": {
            "color": [
             "#636EFA",
             "#EF553B",
             "#00CC96",
             "#AB63FA",
             "#FFA15A",
             "#19D3F3",
             "#FF6692",
             "#B6E880",
             "#FF97FF",
             "#FECB52"
            ],
            "size": 10,
            "symbol": "x"
           },
           "mode": "markers",
           "name": "Centroids",
           "type": "scatter",
           "x": [
            5,
            5
           ],
           "y": [
            5,
            5
           ]
          }
         ],
         "layout": {
          "title": {
           "text": "Initialization"
          }
         }
        },
        {
         "data": [
          {
           "marker": {
            "color": [
             "#EF553B",
             "#EF553B",
             "#EF553B",
             "#636EFA",
             "#EF553B",
             "#EF553B",
             "#636EFA",
             "#636EFA",
             "#636EFA",
             "#636EFA",
             "#EF553B",
             "#EF553B",
             "#EF553B",
             "#EF553B",
             "#EF553B",
             "#EF553B"
            ],
            "symbol": "circle-open"
           },
           "mode": "markers",
           "name": "Data-points",
           "type": "scatter",
           "x": [
            -1,
            0,
            0,
            1,
            9,
            10,
            10,
            11,
            9,
            10,
            10,
            11,
            -1,
            0,
            0,
            1
           ],
           "y": [
            0,
            -1,
            1,
            0,
            10,
            9,
            11,
            10,
            0,
            -1,
            1,
            0,
            10,
            9,
            11,
            10
           ]
          },
          {
           "marker": {
            "color": [
             "#636EFA",
             "#EF553B",
             "#00CC96",
             "#AB63FA",
             "#FFA15A",
             "#19D3F3",
             "#FF6692",
             "#B6E880",
             "#FF97FF",
             "#FECB52"
            ],
            "size": 10,
            "symbol": "x"
           },
           "mode": "markers",
           "name": "Centroids",
           "type": "scatter",
           "x": [
            5,
            5
           ],
           "y": [
            5,
            5
           ]
          }
         ],
         "layout": {
          "title": {
           "text": "Iteration 1 - Assignment Step"
          }
         }
        },
        {
         "data": [
          {
           "marker": {
            "color": [
             "#EF553B",
             "#EF553B",
             "#EF553B",
             "#636EFA",
             "#EF553B",
             "#EF553B",
             "#636EFA",
             "#636EFA",
             "#636EFA",
             "#636EFA",
             "#EF553B",
             "#EF553B",
             "#EF553B",
             "#EF553B",
             "#EF553B",
             "#EF553B"
            ],
            "symbol": "circle-open"
           },
           "mode": "markers",
           "name": "Data-points",
           "type": "scatter",
           "x": [
            -1,
            0,
            0,
            1,
            9,
            10,
            10,
            11,
            9,
            10,
            10,
            11,
            -1,
            0,
            0,
            1
           ],
           "y": [
            0,
            -1,
            1,
            0,
            10,
            9,
            11,
            10,
            0,
            -1,
            1,
            0,
            10,
            9,
            11,
            10
           ]
          },
          {
           "marker": {
            "color": [
             "#636EFA",
             "#EF553B",
             "#00CC96",
             "#AB63FA",
             "#FFA15A",
             "#19D3F3",
             "#FF6692",
             "#B6E880",
             "#FF97FF",
             "#FECB52"
            ],
            "size": 10,
            "symbol": "x"
           },
           "mode": "markers",
           "name": "Centroids",
           "type": "scatter",
           "x": [
            8.2,
            3.5454545454545454
           ],
           "y": [
            4,
            5.454545454545454
           ]
          }
         ],
         "layout": {
          "title": {
           "text": "Iteration 1 - Update Centroids Step - Cost 28.566"
          }
         }
        },
        {
         "data": [
          {
           "marker": {
            "color": [
             "#EF553B",
             "#EF553B",
             "#EF553B",
             "#EF553B",
             "#636EFA",
             "#636EFA",
             "#636EFA",
             "#636EFA",
             "#636EFA",
             "#636EFA",
             "#636EFA",
             "#636EFA",
             "#EF553B",
             "#EF553B",
             "#EF553B",
             "#EF553B"
            ],
            "symbol": "circle-open"
           },
           "mode": "markers",
           "name": "Data-points",
           "type": "scatter",
           "x": [
            -1,
            0,
            0,
            1,
            9,
            10,
            10,
            11,
            9,
            10,
            10,
            11,
            -1,
            0,
            0,
            1
           ],
           "y": [
            0,
            -1,
            1,
            0,
            10,
            9,
            11,
            10,
            0,
            -1,
            1,
            0,
            10,
            9,
            11,
            10
           ]
          },
          {
           "marker": {
            "color": [
             "#636EFA",
             "#EF553B",
             "#00CC96",
             "#AB63FA",
             "#FFA15A",
             "#19D3F3",
             "#FF6692",
             "#B6E880",
             "#FF97FF",
             "#FECB52"
            ],
            "size": 10,
            "symbol": "x"
           },
           "mode": "markers",
           "name": "Centroids",
           "type": "scatter",
           "x": [
            8.2,
            3.5454545454545454
           ],
           "y": [
            4,
            5.454545454545454
           ]
          }
         ],
         "layout": {
          "title": {
           "text": "Iteration 2 - Assignment Step"
          }
         }
        },
        {
         "data": [
          {
           "marker": {
            "color": [
             "#EF553B",
             "#EF553B",
             "#EF553B",
             "#EF553B",
             "#636EFA",
             "#636EFA",
             "#636EFA",
             "#636EFA",
             "#636EFA",
             "#636EFA",
             "#636EFA",
             "#636EFA",
             "#EF553B",
             "#EF553B",
             "#EF553B",
             "#EF553B"
            ],
            "symbol": "circle-open"
           },
           "mode": "markers",
           "name": "Data-points",
           "type": "scatter",
           "x": [
            -1,
            0,
            0,
            1,
            9,
            10,
            10,
            11,
            9,
            10,
            10,
            11,
            -1,
            0,
            0,
            1
           ],
           "y": [
            0,
            -1,
            1,
            0,
            10,
            9,
            11,
            10,
            0,
            -1,
            1,
            0,
            10,
            9,
            11,
            10
           ]
          },
          {
           "marker": {
            "color": [
             "#636EFA",
             "#EF553B",
             "#00CC96",
             "#AB63FA",
             "#FFA15A",
             "#19D3F3",
             "#FF6692",
             "#B6E880",
             "#FF97FF",
             "#FECB52"
            ],
            "size": 10,
            "symbol": "x"
           },
           "mode": "markers",
           "name": "Centroids",
           "type": "scatter",
           "x": [
            10,
            0
           ],
           "y": [
            5,
            5
           ]
          }
         ],
         "layout": {
          "title": {
           "text": "Iteration 2 - Update Centroids Step - Cost 23.498"
          }
         }
        },
        {
         "data": [
          {
           "marker": {
            "color": [
             "#EF553B",
             "#EF553B",
             "#EF553B",
             "#EF553B",
             "#636EFA",
             "#636EFA",
             "#636EFA",
             "#636EFA",
             "#636EFA",
             "#636EFA",
             "#636EFA",
             "#636EFA",
             "#EF553B",
             "#EF553B",
             "#EF553B",
             "#EF553B"
            ],
            "symbol": "circle-open"
           },
           "mode": "markers",
           "name": "Data-points",
           "type": "scatter",
           "x": [
            -1,
            0,
            0,
            1,
            9,
            10,
            10,
            11,
            9,
            10,
            10,
            11,
            -1,
            0,
            0,
            1
           ],
           "y": [
            0,
            -1,
            1,
            0,
            10,
            9,
            11,
            10,
            0,
            -1,
            1,
            0,
            10,
            9,
            11,
            10
           ]
          },
          {
           "marker": {
            "color": [
             "#636EFA",
             "#EF553B",
             "#00CC96",
             "#AB63FA",
             "#FFA15A",
             "#19D3F3",
             "#FF6692",
             "#B6E880",
             "#FF97FF",
             "#FECB52"
            ],
            "size": 10,
            "symbol": "x"
           },
           "mode": "markers",
           "name": "Centroids",
           "type": "scatter",
           "x": [
            10,
            0
           ],
           "y": [
            5,
            5
           ]
          }
         ],
         "layout": {
          "title": {
           "text": "Iteration 3 - Assignment Step"
          }
         }
        },
        {
         "data": [
          {
           "marker": {
            "color": [
             "#EF553B",
             "#EF553B",
             "#EF553B",
             "#EF553B",
             "#636EFA",
             "#636EFA",
             "#636EFA",
             "#636EFA",
             "#636EFA",
             "#636EFA",
             "#636EFA",
             "#636EFA",
             "#EF553B",
             "#EF553B",
             "#EF553B",
             "#EF553B"
            ],
            "symbol": "circle-open"
           },
           "mode": "markers",
           "name": "Data-points",
           "type": "scatter",
           "x": [
            -1,
            0,
            0,
            1,
            9,
            10,
            10,
            11,
            9,
            10,
            10,
            11,
            -1,
            0,
            0,
            1
           ],
           "y": [
            0,
            -1,
            1,
            0,
            10,
            9,
            11,
            10,
            0,
            -1,
            1,
            0,
            10,
            9,
            11,
            10
           ]
          },
          {
           "marker": {
            "color": [
             "#636EFA",
             "#EF553B",
             "#00CC96",
             "#AB63FA",
             "#FFA15A",
             "#19D3F3",
             "#FF6692",
             "#B6E880",
             "#FF97FF",
             "#FECB52"
            ],
            "size": 10,
            "symbol": "x"
           },
           "mode": "markers",
           "name": "Centroids",
           "type": "scatter",
           "x": [
            10,
            0
           ],
           "y": [
            5,
            5
           ]
          }
         ],
         "layout": {
          "title": {
           "text": "Converged - Required 3 Iterations - Final Cost 20.396"
          }
         }
        }
       ],
       "layout": {
        "template": {
         "data": {
          "bar": [
           {
            "error_x": {
             "color": "rgb(36,36,36)"
            },
            "error_y": {
             "color": "rgb(36,36,36)"
            },
            "marker": {
             "line": {
              "color": "white",
              "width": 0.5
             }
            },
            "type": "bar"
           }
          ],
          "barpolar": [
           {
            "marker": {
             "line": {
              "color": "white",
              "width": 0.5
             }
            },
            "type": "barpolar"
           }
          ],
          "carpet": [
           {
            "aaxis": {
             "endlinecolor": "rgb(36,36,36)",
             "gridcolor": "white",
             "linecolor": "white",
             "minorgridcolor": "white",
             "startlinecolor": "rgb(36,36,36)"
            },
            "baxis": {
             "endlinecolor": "rgb(36,36,36)",
             "gridcolor": "white",
             "linecolor": "white",
             "minorgridcolor": "white",
             "startlinecolor": "rgb(36,36,36)"
            },
            "type": "carpet"
           }
          ],
          "choropleth": [
           {
            "colorbar": {
             "outlinewidth": 1,
             "tickcolor": "rgb(36,36,36)",
             "ticks": "outside"
            },
            "type": "choropleth"
           }
          ],
          "contour": [
           {
            "colorbar": {
             "outlinewidth": 1,
             "tickcolor": "rgb(36,36,36)",
             "ticks": "outside"
            },
            "colorscale": [
             [
              0,
              "#440154"
             ],
             [
              0.1111111111111111,
              "#482878"
             ],
             [
              0.2222222222222222,
              "#3e4989"
             ],
             [
              0.3333333333333333,
              "#31688e"
             ],
             [
              0.4444444444444444,
              "#26828e"
             ],
             [
              0.5555555555555556,
              "#1f9e89"
             ],
             [
              0.6666666666666666,
              "#35b779"
             ],
             [
              0.7777777777777778,
              "#6ece58"
             ],
             [
              0.8888888888888888,
              "#b5de2b"
             ],
             [
              1,
              "#fde725"
             ]
            ],
            "type": "contour"
           }
          ],
          "contourcarpet": [
           {
            "colorbar": {
             "outlinewidth": 1,
             "tickcolor": "rgb(36,36,36)",
             "ticks": "outside"
            },
            "type": "contourcarpet"
           }
          ],
          "heatmap": [
           {
            "colorbar": {
             "outlinewidth": 1,
             "tickcolor": "rgb(36,36,36)",
             "ticks": "outside"
            },
            "colorscale": [
             [
              0,
              "#440154"
             ],
             [
              0.1111111111111111,
              "#482878"
             ],
             [
              0.2222222222222222,
              "#3e4989"
             ],
             [
              0.3333333333333333,
              "#31688e"
             ],
             [
              0.4444444444444444,
              "#26828e"
             ],
             [
              0.5555555555555556,
              "#1f9e89"
             ],
             [
              0.6666666666666666,
              "#35b779"
             ],
             [
              0.7777777777777778,
              "#6ece58"
             ],
             [
              0.8888888888888888,
              "#b5de2b"
             ],
             [
              1,
              "#fde725"
             ]
            ],
            "type": "heatmap"
           }
          ],
          "heatmapgl": [
           {
            "colorbar": {
             "outlinewidth": 1,
             "tickcolor": "rgb(36,36,36)",
             "ticks": "outside"
            },
            "colorscale": [
             [
              0,
              "#440154"
             ],
             [
              0.1111111111111111,
              "#482878"
             ],
             [
              0.2222222222222222,
              "#3e4989"
             ],
             [
              0.3333333333333333,
              "#31688e"
             ],
             [
              0.4444444444444444,
              "#26828e"
             ],
             [
              0.5555555555555556,
              "#1f9e89"
             ],
             [
              0.6666666666666666,
              "#35b779"
             ],
             [
              0.7777777777777778,
              "#6ece58"
             ],
             [
              0.8888888888888888,
              "#b5de2b"
             ],
             [
              1,
              "#fde725"
             ]
            ],
            "type": "heatmapgl"
           }
          ],
          "histogram": [
           {
            "marker": {
             "line": {
              "color": "white",
              "width": 0.6
             }
            },
            "type": "histogram"
           }
          ],
          "histogram2d": [
           {
            "colorbar": {
             "outlinewidth": 1,
             "tickcolor": "rgb(36,36,36)",
             "ticks": "outside"
            },
            "colorscale": [
             [
              0,
              "#440154"
             ],
             [
              0.1111111111111111,
              "#482878"
             ],
             [
              0.2222222222222222,
              "#3e4989"
             ],
             [
              0.3333333333333333,
              "#31688e"
             ],
             [
              0.4444444444444444,
              "#26828e"
             ],
             [
              0.5555555555555556,
              "#1f9e89"
             ],
             [
              0.6666666666666666,
              "#35b779"
             ],
             [
              0.7777777777777778,
              "#6ece58"
             ],
             [
              0.8888888888888888,
              "#b5de2b"
             ],
             [
              1,
              "#fde725"
             ]
            ],
            "type": "histogram2d"
           }
          ],
          "histogram2dcontour": [
           {
            "colorbar": {
             "outlinewidth": 1,
             "tickcolor": "rgb(36,36,36)",
             "ticks": "outside"
            },
            "colorscale": [
             [
              0,
              "#440154"
             ],
             [
              0.1111111111111111,
              "#482878"
             ],
             [
              0.2222222222222222,
              "#3e4989"
             ],
             [
              0.3333333333333333,
              "#31688e"
             ],
             [
              0.4444444444444444,
              "#26828e"
             ],
             [
              0.5555555555555556,
              "#1f9e89"
             ],
             [
              0.6666666666666666,
              "#35b779"
             ],
             [
              0.7777777777777778,
              "#6ece58"
             ],
             [
              0.8888888888888888,
              "#b5de2b"
             ],
             [
              1,
              "#fde725"
             ]
            ],
            "type": "histogram2dcontour"
           }
          ],
          "mesh3d": [
           {
            "colorbar": {
             "outlinewidth": 1,
             "tickcolor": "rgb(36,36,36)",
             "ticks": "outside"
            },
            "type": "mesh3d"
           }
          ],
          "parcoords": [
           {
            "line": {
             "colorbar": {
              "outlinewidth": 1,
              "tickcolor": "rgb(36,36,36)",
              "ticks": "outside"
             }
            },
            "type": "parcoords"
           }
          ],
          "pie": [
           {
            "automargin": true,
            "type": "pie"
           }
          ],
          "scatter": [
           {
            "marker": {
             "colorbar": {
              "outlinewidth": 1,
              "tickcolor": "rgb(36,36,36)",
              "ticks": "outside"
             }
            },
            "type": "scatter"
           }
          ],
          "scatter3d": [
           {
            "line": {
             "colorbar": {
              "outlinewidth": 1,
              "tickcolor": "rgb(36,36,36)",
              "ticks": "outside"
             }
            },
            "marker": {
             "colorbar": {
              "outlinewidth": 1,
              "tickcolor": "rgb(36,36,36)",
              "ticks": "outside"
             }
            },
            "type": "scatter3d"
           }
          ],
          "scattercarpet": [
           {
            "marker": {
             "colorbar": {
              "outlinewidth": 1,
              "tickcolor": "rgb(36,36,36)",
              "ticks": "outside"
             }
            },
            "type": "scattercarpet"
           }
          ],
          "scattergeo": [
           {
            "marker": {
             "colorbar": {
              "outlinewidth": 1,
              "tickcolor": "rgb(36,36,36)",
              "ticks": "outside"
             }
            },
            "type": "scattergeo"
           }
          ],
          "scattergl": [
           {
            "marker": {
             "colorbar": {
              "outlinewidth": 1,
              "tickcolor": "rgb(36,36,36)",
              "ticks": "outside"
             }
            },
            "type": "scattergl"
           }
          ],
          "scattermapbox": [
           {
            "marker": {
             "colorbar": {
              "outlinewidth": 1,
              "tickcolor": "rgb(36,36,36)",
              "ticks": "outside"
             }
            },
            "type": "scattermapbox"
           }
          ],
          "scatterpolar": [
           {
            "marker": {
             "colorbar": {
              "outlinewidth": 1,
              "tickcolor": "rgb(36,36,36)",
              "ticks": "outside"
             }
            },
            "type": "scatterpolar"
           }
          ],
          "scatterpolargl": [
           {
            "marker": {
             "colorbar": {
              "outlinewidth": 1,
              "tickcolor": "rgb(36,36,36)",
              "ticks": "outside"
             }
            },
            "type": "scatterpolargl"
           }
          ],
          "scatterternary": [
           {
            "marker": {
             "colorbar": {
              "outlinewidth": 1,
              "tickcolor": "rgb(36,36,36)",
              "ticks": "outside"
             }
            },
            "type": "scatterternary"
           }
          ],
          "surface": [
           {
            "colorbar": {
             "outlinewidth": 1,
             "tickcolor": "rgb(36,36,36)",
             "ticks": "outside"
            },
            "colorscale": [
             [
              0,
              "#440154"
             ],
             [
              0.1111111111111111,
              "#482878"
             ],
             [
              0.2222222222222222,
              "#3e4989"
             ],
             [
              0.3333333333333333,
              "#31688e"
             ],
             [
              0.4444444444444444,
              "#26828e"
             ],
             [
              0.5555555555555556,
              "#1f9e89"
             ],
             [
              0.6666666666666666,
              "#35b779"
             ],
             [
              0.7777777777777778,
              "#6ece58"
             ],
             [
              0.8888888888888888,
              "#b5de2b"
             ],
             [
              1,
              "#fde725"
             ]
            ],
            "type": "surface"
           }
          ],
          "table": [
           {
            "cells": {
             "fill": {
              "color": "rgb(237,237,237)"
             },
             "line": {
              "color": "white"
             }
            },
            "header": {
             "fill": {
              "color": "rgb(217,217,217)"
             },
             "line": {
              "color": "white"
             }
            },
            "type": "table"
           }
          ]
         },
         "layout": {
          "annotationdefaults": {
           "arrowhead": 0,
           "arrowwidth": 1
          },
          "autotypenumbers": "strict",
          "coloraxis": {
           "colorbar": {
            "outlinewidth": 1,
            "tickcolor": "rgb(36,36,36)",
            "ticks": "outside"
           }
          },
          "colorscale": {
           "diverging": [
            [
             0,
             "rgb(103,0,31)"
            ],
            [
             0.1,
             "rgb(178,24,43)"
            ],
            [
             0.2,
             "rgb(214,96,77)"
            ],
            [
             0.3,
             "rgb(244,165,130)"
            ],
            [
             0.4,
             "rgb(253,219,199)"
            ],
            [
             0.5,
             "rgb(247,247,247)"
            ],
            [
             0.6,
             "rgb(209,229,240)"
            ],
            [
             0.7,
             "rgb(146,197,222)"
            ],
            [
             0.8,
             "rgb(67,147,195)"
            ],
            [
             0.9,
             "rgb(33,102,172)"
            ],
            [
             1,
             "rgb(5,48,97)"
            ]
           ],
           "sequential": [
            [
             0,
             "#440154"
            ],
            [
             0.1111111111111111,
             "#482878"
            ],
            [
             0.2222222222222222,
             "#3e4989"
            ],
            [
             0.3333333333333333,
             "#31688e"
            ],
            [
             0.4444444444444444,
             "#26828e"
            ],
            [
             0.5555555555555556,
             "#1f9e89"
            ],
            [
             0.6666666666666666,
             "#35b779"
            ],
            [
             0.7777777777777778,
             "#6ece58"
            ],
            [
             0.8888888888888888,
             "#b5de2b"
            ],
            [
             1,
             "#fde725"
            ]
           ],
           "sequentialminus": [
            [
             0,
             "#440154"
            ],
            [
             0.1111111111111111,
             "#482878"
            ],
            [
             0.2222222222222222,
             "#3e4989"
            ],
            [
             0.3333333333333333,
             "#31688e"
            ],
            [
             0.4444444444444444,
             "#26828e"
            ],
            [
             0.5555555555555556,
             "#1f9e89"
            ],
            [
             0.6666666666666666,
             "#35b779"
            ],
            [
             0.7777777777777778,
             "#6ece58"
            ],
            [
             0.8888888888888888,
             "#b5de2b"
            ],
            [
             1,
             "#fde725"
            ]
           ]
          },
          "colorway": [
           "#1F77B4",
           "#FF7F0E",
           "#2CA02C",
           "#D62728",
           "#9467BD",
           "#8C564B",
           "#E377C2",
           "#7F7F7F",
           "#BCBD22",
           "#17BECF"
          ],
          "font": {
           "color": "rgb(36,36,36)"
          },
          "geo": {
           "bgcolor": "white",
           "lakecolor": "white",
           "landcolor": "white",
           "showlakes": true,
           "showland": true,
           "subunitcolor": "white"
          },
          "hoverlabel": {
           "align": "left"
          },
          "hovermode": "closest",
          "mapbox": {
           "style": "light"
          },
          "margin": {
           "b": 0,
           "l": 20,
           "r": 20,
           "t": 40
          },
          "paper_bgcolor": "white",
          "plot_bgcolor": "white",
          "polar": {
           "angularaxis": {
            "gridcolor": "rgb(232,232,232)",
            "linecolor": "rgb(36,36,36)",
            "showgrid": false,
            "showline": true,
            "ticks": "outside"
           },
           "bgcolor": "white",
           "radialaxis": {
            "gridcolor": "rgb(232,232,232)",
            "linecolor": "rgb(36,36,36)",
            "showgrid": false,
            "showline": true,
            "ticks": "outside"
           }
          },
          "scene": {
           "xaxis": {
            "backgroundcolor": "white",
            "gridcolor": "rgb(232,232,232)",
            "gridwidth": 2,
            "linecolor": "rgb(36,36,36)",
            "showbackground": true,
            "showgrid": false,
            "showline": true,
            "ticks": "outside",
            "zeroline": false,
            "zerolinecolor": "rgb(36,36,36)"
           },
           "yaxis": {
            "backgroundcolor": "white",
            "gridcolor": "rgb(232,232,232)",
            "gridwidth": 2,
            "linecolor": "rgb(36,36,36)",
            "showbackground": true,
            "showgrid": false,
            "showline": true,
            "ticks": "outside",
            "zeroline": false,
            "zerolinecolor": "rgb(36,36,36)"
           },
           "zaxis": {
            "backgroundcolor": "white",
            "gridcolor": "rgb(232,232,232)",
            "gridwidth": 2,
            "linecolor": "rgb(36,36,36)",
            "showbackground": true,
            "showgrid": false,
            "showline": true,
            "ticks": "outside",
            "zeroline": false,
            "zerolinecolor": "rgb(36,36,36)"
           }
          },
          "shapedefaults": {
           "fillcolor": "black",
           "line": {
            "width": 0
           },
           "opacity": 0.3
          },
          "ternary": {
           "aaxis": {
            "gridcolor": "rgb(232,232,232)",
            "linecolor": "rgb(36,36,36)",
            "showgrid": false,
            "showline": true,
            "ticks": "outside"
           },
           "baxis": {
            "gridcolor": "rgb(232,232,232)",
            "linecolor": "rgb(36,36,36)",
            "showgrid": false,
            "showline": true,
            "ticks": "outside"
           },
           "bgcolor": "white",
           "caxis": {
            "gridcolor": "rgb(232,232,232)",
            "linecolor": "rgb(36,36,36)",
            "showgrid": false,
            "showline": true,
            "ticks": "outside"
           }
          },
          "title": {
           "x": 0.05
          },
          "xaxis": {
           "automargin": true,
           "gridcolor": "rgb(232,232,232)",
           "linecolor": "rgb(36,36,36)",
           "showgrid": false,
           "showline": true,
           "ticks": "outside",
           "title": {
            "standoff": 15
           },
           "zeroline": false,
           "zerolinecolor": "rgb(36,36,36)"
          },
          "yaxis": {
           "automargin": true,
           "gridcolor": "rgb(232,232,232)",
           "linecolor": "rgb(36,36,36)",
           "showgrid": false,
           "showline": true,
           "ticks": "outside",
           "title": {
            "standoff": 15
           },
           "zeroline": false,
           "zerolinecolor": "rgb(36,36,36)"
          }
         }
        },
        "title": {
         "text": "Initialization"
        },
        "updatemenus": [
         {
          "buttons": [
           {
            "args": [
             null,
             {
              "frame": {
               "duration": 500
              }
             }
            ],
            "label": "Play",
            "method": "animate"
           },
           {
            "args": [
             [
              null
             ],
             {
              "frame": {
               "duration": 0,
               "redraw": false
              },
              "mode": "immediate",
              "transition": {
               "duration": 0
              }
             }
            ],
            "label": "Pause",
            "method": "animate"
           }
          ],
          "type": "buttons",
          "visible": true
         }
        ]
       }
      },
      "text/html": [
       "<div>                            <div id=\"1edb44cc-33eb-4990-9a1f-543d4c06ec50\" class=\"plotly-graph-div\" style=\"height:525px; width:100%;\"></div>            <script type=\"text/javascript\">                require([\"plotly\"], function(Plotly) {                    window.PLOTLYENV=window.PLOTLYENV || {};                                    if (document.getElementById(\"1edb44cc-33eb-4990-9a1f-543d4c06ec50\")) {                    Plotly.newPlot(                        \"1edb44cc-33eb-4990-9a1f-543d4c06ec50\",                        [{\"marker\": {\"color\": [\"lightgrey\", \"lightgrey\", \"lightgrey\", \"lightgrey\", \"lightgrey\", \"lightgrey\", \"lightgrey\", \"lightgrey\", \"lightgrey\", \"lightgrey\", \"lightgrey\", \"lightgrey\", \"lightgrey\", \"lightgrey\", \"lightgrey\", \"lightgrey\"], \"symbol\": \"circle-open\"}, \"mode\": \"markers\", \"name\": \"Data-points\", \"type\": \"scatter\", \"x\": [-1, 0, 0, 1, 9, 10, 10, 11, 9, 10, 10, 11, -1, 0, 0, 1], \"y\": [0, -1, 1, 0, 10, 9, 11, 10, 0, -1, 1, 0, 10, 9, 11, 10]}, {\"marker\": {\"color\": [\"#636EFA\", \"#EF553B\", \"#00CC96\", \"#AB63FA\", \"#FFA15A\", \"#19D3F3\", \"#FF6692\", \"#B6E880\", \"#FF97FF\", \"#FECB52\"], \"size\": 10, \"symbol\": \"x\"}, \"mode\": \"markers\", \"name\": \"Centroids\", \"type\": \"scatter\", \"x\": [5, 5], \"y\": [5, 5]}],                        {\"template\": {\"data\": {\"bar\": [{\"error_x\": {\"color\": \"rgb(36,36,36)\"}, \"error_y\": {\"color\": \"rgb(36,36,36)\"}, \"marker\": {\"line\": {\"color\": \"white\", \"width\": 0.5}}, \"type\": \"bar\"}], \"barpolar\": [{\"marker\": {\"line\": {\"color\": \"white\", \"width\": 0.5}}, \"type\": \"barpolar\"}], \"carpet\": [{\"aaxis\": {\"endlinecolor\": \"rgb(36,36,36)\", \"gridcolor\": \"white\", \"linecolor\": \"white\", \"minorgridcolor\": \"white\", \"startlinecolor\": \"rgb(36,36,36)\"}, \"baxis\": {\"endlinecolor\": \"rgb(36,36,36)\", \"gridcolor\": \"white\", \"linecolor\": \"white\", \"minorgridcolor\": \"white\", \"startlinecolor\": \"rgb(36,36,36)\"}, \"type\": \"carpet\"}], \"choropleth\": [{\"colorbar\": {\"outlinewidth\": 1, \"tickcolor\": \"rgb(36,36,36)\", \"ticks\": \"outside\"}, \"type\": \"choropleth\"}], \"contour\": [{\"colorbar\": {\"outlinewidth\": 1, \"tickcolor\": \"rgb(36,36,36)\", \"ticks\": \"outside\"}, \"colorscale\": [[0.0, \"#440154\"], [0.1111111111111111, \"#482878\"], [0.2222222222222222, \"#3e4989\"], [0.3333333333333333, \"#31688e\"], [0.4444444444444444, \"#26828e\"], [0.5555555555555556, \"#1f9e89\"], [0.6666666666666666, \"#35b779\"], [0.7777777777777778, \"#6ece58\"], [0.8888888888888888, \"#b5de2b\"], [1.0, \"#fde725\"]], \"type\": \"contour\"}], \"contourcarpet\": [{\"colorbar\": {\"outlinewidth\": 1, \"tickcolor\": \"rgb(36,36,36)\", \"ticks\": \"outside\"}, \"type\": \"contourcarpet\"}], \"heatmap\": [{\"colorbar\": {\"outlinewidth\": 1, \"tickcolor\": \"rgb(36,36,36)\", \"ticks\": \"outside\"}, \"colorscale\": [[0.0, \"#440154\"], [0.1111111111111111, \"#482878\"], [0.2222222222222222, \"#3e4989\"], [0.3333333333333333, \"#31688e\"], [0.4444444444444444, \"#26828e\"], [0.5555555555555556, \"#1f9e89\"], [0.6666666666666666, \"#35b779\"], [0.7777777777777778, \"#6ece58\"], [0.8888888888888888, \"#b5de2b\"], [1.0, \"#fde725\"]], \"type\": \"heatmap\"}], \"heatmapgl\": [{\"colorbar\": {\"outlinewidth\": 1, \"tickcolor\": \"rgb(36,36,36)\", \"ticks\": \"outside\"}, \"colorscale\": [[0.0, \"#440154\"], [0.1111111111111111, \"#482878\"], [0.2222222222222222, \"#3e4989\"], [0.3333333333333333, \"#31688e\"], [0.4444444444444444, \"#26828e\"], [0.5555555555555556, \"#1f9e89\"], [0.6666666666666666, \"#35b779\"], [0.7777777777777778, \"#6ece58\"], [0.8888888888888888, \"#b5de2b\"], [1.0, \"#fde725\"]], \"type\": \"heatmapgl\"}], \"histogram\": [{\"marker\": {\"line\": {\"color\": \"white\", \"width\": 0.6}}, \"type\": \"histogram\"}], \"histogram2d\": [{\"colorbar\": {\"outlinewidth\": 1, \"tickcolor\": \"rgb(36,36,36)\", \"ticks\": \"outside\"}, \"colorscale\": [[0.0, \"#440154\"], [0.1111111111111111, \"#482878\"], [0.2222222222222222, \"#3e4989\"], [0.3333333333333333, \"#31688e\"], [0.4444444444444444, \"#26828e\"], [0.5555555555555556, \"#1f9e89\"], [0.6666666666666666, \"#35b779\"], [0.7777777777777778, \"#6ece58\"], [0.8888888888888888, \"#b5de2b\"], [1.0, \"#fde725\"]], \"type\": \"histogram2d\"}], \"histogram2dcontour\": [{\"colorbar\": {\"outlinewidth\": 1, \"tickcolor\": \"rgb(36,36,36)\", \"ticks\": \"outside\"}, \"colorscale\": [[0.0, \"#440154\"], [0.1111111111111111, \"#482878\"], [0.2222222222222222, \"#3e4989\"], [0.3333333333333333, \"#31688e\"], [0.4444444444444444, \"#26828e\"], [0.5555555555555556, \"#1f9e89\"], [0.6666666666666666, \"#35b779\"], [0.7777777777777778, \"#6ece58\"], [0.8888888888888888, \"#b5de2b\"], [1.0, \"#fde725\"]], \"type\": \"histogram2dcontour\"}], \"mesh3d\": [{\"colorbar\": {\"outlinewidth\": 1, \"tickcolor\": \"rgb(36,36,36)\", \"ticks\": \"outside\"}, \"type\": \"mesh3d\"}], \"parcoords\": [{\"line\": {\"colorbar\": {\"outlinewidth\": 1, \"tickcolor\": \"rgb(36,36,36)\", \"ticks\": \"outside\"}}, \"type\": \"parcoords\"}], \"pie\": [{\"automargin\": true, \"type\": \"pie\"}], \"scatter\": [{\"marker\": {\"colorbar\": {\"outlinewidth\": 1, \"tickcolor\": \"rgb(36,36,36)\", \"ticks\": \"outside\"}}, \"type\": \"scatter\"}], \"scatter3d\": [{\"line\": {\"colorbar\": {\"outlinewidth\": 1, \"tickcolor\": \"rgb(36,36,36)\", \"ticks\": \"outside\"}}, \"marker\": {\"colorbar\": {\"outlinewidth\": 1, \"tickcolor\": \"rgb(36,36,36)\", \"ticks\": \"outside\"}}, \"type\": \"scatter3d\"}], \"scattercarpet\": [{\"marker\": {\"colorbar\": {\"outlinewidth\": 1, \"tickcolor\": \"rgb(36,36,36)\", \"ticks\": \"outside\"}}, \"type\": \"scattercarpet\"}], \"scattergeo\": [{\"marker\": {\"colorbar\": {\"outlinewidth\": 1, \"tickcolor\": \"rgb(36,36,36)\", \"ticks\": \"outside\"}}, \"type\": \"scattergeo\"}], \"scattergl\": [{\"marker\": {\"colorbar\": {\"outlinewidth\": 1, \"tickcolor\": \"rgb(36,36,36)\", \"ticks\": \"outside\"}}, \"type\": \"scattergl\"}], \"scattermapbox\": [{\"marker\": {\"colorbar\": {\"outlinewidth\": 1, \"tickcolor\": \"rgb(36,36,36)\", \"ticks\": \"outside\"}}, \"type\": \"scattermapbox\"}], \"scatterpolar\": [{\"marker\": {\"colorbar\": {\"outlinewidth\": 1, \"tickcolor\": \"rgb(36,36,36)\", \"ticks\": \"outside\"}}, \"type\": \"scatterpolar\"}], \"scatterpolargl\": [{\"marker\": {\"colorbar\": {\"outlinewidth\": 1, \"tickcolor\": \"rgb(36,36,36)\", \"ticks\": \"outside\"}}, \"type\": \"scatterpolargl\"}], \"scatterternary\": [{\"marker\": {\"colorbar\": {\"outlinewidth\": 1, \"tickcolor\": \"rgb(36,36,36)\", \"ticks\": \"outside\"}}, \"type\": \"scatterternary\"}], \"surface\": [{\"colorbar\": {\"outlinewidth\": 1, \"tickcolor\": \"rgb(36,36,36)\", \"ticks\": \"outside\"}, \"colorscale\": [[0.0, \"#440154\"], [0.1111111111111111, \"#482878\"], [0.2222222222222222, \"#3e4989\"], [0.3333333333333333, \"#31688e\"], [0.4444444444444444, \"#26828e\"], [0.5555555555555556, \"#1f9e89\"], [0.6666666666666666, \"#35b779\"], [0.7777777777777778, \"#6ece58\"], [0.8888888888888888, \"#b5de2b\"], [1.0, \"#fde725\"]], \"type\": \"surface\"}], \"table\": [{\"cells\": {\"fill\": {\"color\": \"rgb(237,237,237)\"}, \"line\": {\"color\": \"white\"}}, \"header\": {\"fill\": {\"color\": \"rgb(217,217,217)\"}, \"line\": {\"color\": \"white\"}}, \"type\": \"table\"}]}, \"layout\": {\"annotationdefaults\": {\"arrowhead\": 0, \"arrowwidth\": 1}, \"autotypenumbers\": \"strict\", \"coloraxis\": {\"colorbar\": {\"outlinewidth\": 1, \"tickcolor\": \"rgb(36,36,36)\", \"ticks\": \"outside\"}}, \"colorscale\": {\"diverging\": [[0.0, \"rgb(103,0,31)\"], [0.1, \"rgb(178,24,43)\"], [0.2, \"rgb(214,96,77)\"], [0.3, \"rgb(244,165,130)\"], [0.4, \"rgb(253,219,199)\"], [0.5, \"rgb(247,247,247)\"], [0.6, \"rgb(209,229,240)\"], [0.7, \"rgb(146,197,222)\"], [0.8, \"rgb(67,147,195)\"], [0.9, \"rgb(33,102,172)\"], [1.0, \"rgb(5,48,97)\"]], \"sequential\": [[0.0, \"#440154\"], [0.1111111111111111, \"#482878\"], [0.2222222222222222, \"#3e4989\"], [0.3333333333333333, \"#31688e\"], [0.4444444444444444, \"#26828e\"], [0.5555555555555556, \"#1f9e89\"], [0.6666666666666666, \"#35b779\"], [0.7777777777777778, \"#6ece58\"], [0.8888888888888888, \"#b5de2b\"], [1.0, \"#fde725\"]], \"sequentialminus\": [[0.0, \"#440154\"], [0.1111111111111111, \"#482878\"], [0.2222222222222222, \"#3e4989\"], [0.3333333333333333, \"#31688e\"], [0.4444444444444444, \"#26828e\"], [0.5555555555555556, \"#1f9e89\"], [0.6666666666666666, \"#35b779\"], [0.7777777777777778, \"#6ece58\"], [0.8888888888888888, \"#b5de2b\"], [1.0, \"#fde725\"]]}, \"colorway\": [\"#1F77B4\", \"#FF7F0E\", \"#2CA02C\", \"#D62728\", \"#9467BD\", \"#8C564B\", \"#E377C2\", \"#7F7F7F\", \"#BCBD22\", \"#17BECF\"], \"font\": {\"color\": \"rgb(36,36,36)\"}, \"geo\": {\"bgcolor\": \"white\", \"lakecolor\": \"white\", \"landcolor\": \"white\", \"showlakes\": true, \"showland\": true, \"subunitcolor\": \"white\"}, \"hoverlabel\": {\"align\": \"left\"}, \"hovermode\": \"closest\", \"mapbox\": {\"style\": \"light\"}, \"margin\": {\"b\": 0, \"l\": 20, \"r\": 20, \"t\": 40}, \"paper_bgcolor\": \"white\", \"plot_bgcolor\": \"white\", \"polar\": {\"angularaxis\": {\"gridcolor\": \"rgb(232,232,232)\", \"linecolor\": \"rgb(36,36,36)\", \"showgrid\": false, \"showline\": true, \"ticks\": \"outside\"}, \"bgcolor\": \"white\", \"radialaxis\": {\"gridcolor\": \"rgb(232,232,232)\", \"linecolor\": \"rgb(36,36,36)\", \"showgrid\": false, \"showline\": true, \"ticks\": \"outside\"}}, \"scene\": {\"xaxis\": {\"backgroundcolor\": \"white\", \"gridcolor\": \"rgb(232,232,232)\", \"gridwidth\": 2, \"linecolor\": \"rgb(36,36,36)\", \"showbackground\": true, \"showgrid\": false, \"showline\": true, \"ticks\": \"outside\", \"zeroline\": false, \"zerolinecolor\": \"rgb(36,36,36)\"}, \"yaxis\": {\"backgroundcolor\": \"white\", \"gridcolor\": \"rgb(232,232,232)\", \"gridwidth\": 2, \"linecolor\": \"rgb(36,36,36)\", \"showbackground\": true, \"showgrid\": false, \"showline\": true, \"ticks\": \"outside\", \"zeroline\": false, \"zerolinecolor\": \"rgb(36,36,36)\"}, \"zaxis\": {\"backgroundcolor\": \"white\", \"gridcolor\": \"rgb(232,232,232)\", \"gridwidth\": 2, \"linecolor\": \"rgb(36,36,36)\", \"showbackground\": true, \"showgrid\": false, \"showline\": true, \"ticks\": \"outside\", \"zeroline\": false, \"zerolinecolor\": \"rgb(36,36,36)\"}}, \"shapedefaults\": {\"fillcolor\": \"black\", \"line\": {\"width\": 0}, \"opacity\": 0.3}, \"ternary\": {\"aaxis\": {\"gridcolor\": \"rgb(232,232,232)\", \"linecolor\": \"rgb(36,36,36)\", \"showgrid\": false, \"showline\": true, \"ticks\": \"outside\"}, \"baxis\": {\"gridcolor\": \"rgb(232,232,232)\", \"linecolor\": \"rgb(36,36,36)\", \"showgrid\": false, \"showline\": true, \"ticks\": \"outside\"}, \"bgcolor\": \"white\", \"caxis\": {\"gridcolor\": \"rgb(232,232,232)\", \"linecolor\": \"rgb(36,36,36)\", \"showgrid\": false, \"showline\": true, \"ticks\": \"outside\"}}, \"title\": {\"x\": 0.05}, \"xaxis\": {\"automargin\": true, \"gridcolor\": \"rgb(232,232,232)\", \"linecolor\": \"rgb(36,36,36)\", \"showgrid\": false, \"showline\": true, \"ticks\": \"outside\", \"title\": {\"standoff\": 15}, \"zeroline\": false, \"zerolinecolor\": \"rgb(36,36,36)\"}, \"yaxis\": {\"automargin\": true, \"gridcolor\": \"rgb(232,232,232)\", \"linecolor\": \"rgb(36,36,36)\", \"showgrid\": false, \"showline\": true, \"ticks\": \"outside\", \"title\": {\"standoff\": 15}, \"zeroline\": false, \"zerolinecolor\": \"rgb(36,36,36)\"}}}, \"title\": {\"text\": \"Initialization\"}, \"updatemenus\": [{\"buttons\": [{\"args\": [null, {\"frame\": {\"duration\": 500}}], \"label\": \"Play\", \"method\": \"animate\"}, {\"args\": [[null], {\"frame\": {\"duration\": 0, \"redraw\": false}, \"mode\": \"immediate\", \"transition\": {\"duration\": 0}}], \"label\": \"Pause\", \"method\": \"animate\"}], \"type\": \"buttons\", \"visible\": true}]},                        {\"responsive\": true}                    ).then(function(){\n",
       "                            Plotly.addFrames('1edb44cc-33eb-4990-9a1f-543d4c06ec50', [{\"data\": [{\"marker\": {\"color\": [\"lightgrey\", \"lightgrey\", \"lightgrey\", \"lightgrey\", \"lightgrey\", \"lightgrey\", \"lightgrey\", \"lightgrey\", \"lightgrey\", \"lightgrey\", \"lightgrey\", \"lightgrey\", \"lightgrey\", \"lightgrey\", \"lightgrey\", \"lightgrey\"], \"symbol\": \"circle-open\"}, \"mode\": \"markers\", \"name\": \"Data-points\", \"x\": [-1, 0, 0, 1, 9, 10, 10, 11, 9, 10, 10, 11, -1, 0, 0, 1], \"y\": [0, -1, 1, 0, 10, 9, 11, 10, 0, -1, 1, 0, 10, 9, 11, 10], \"type\": \"scatter\"}, {\"marker\": {\"color\": [\"#636EFA\", \"#EF553B\", \"#00CC96\", \"#AB63FA\", \"#FFA15A\", \"#19D3F3\", \"#FF6692\", \"#B6E880\", \"#FF97FF\", \"#FECB52\"], \"size\": 10, \"symbol\": \"x\"}, \"mode\": \"markers\", \"name\": \"Centroids\", \"x\": [5, 5], \"y\": [5, 5], \"type\": \"scatter\"}], \"layout\": {\"title\": {\"text\": \"Initialization\"}}}, {\"data\": [{\"marker\": {\"color\": [\"#EF553B\", \"#EF553B\", \"#EF553B\", \"#636EFA\", \"#EF553B\", \"#EF553B\", \"#636EFA\", \"#636EFA\", \"#636EFA\", \"#636EFA\", \"#EF553B\", \"#EF553B\", \"#EF553B\", \"#EF553B\", \"#EF553B\", \"#EF553B\"], \"symbol\": \"circle-open\"}, \"mode\": \"markers\", \"name\": \"Data-points\", \"x\": [-1, 0, 0, 1, 9, 10, 10, 11, 9, 10, 10, 11, -1, 0, 0, 1], \"y\": [0, -1, 1, 0, 10, 9, 11, 10, 0, -1, 1, 0, 10, 9, 11, 10], \"type\": \"scatter\"}, {\"marker\": {\"color\": [\"#636EFA\", \"#EF553B\", \"#00CC96\", \"#AB63FA\", \"#FFA15A\", \"#19D3F3\", \"#FF6692\", \"#B6E880\", \"#FF97FF\", \"#FECB52\"], \"size\": 10, \"symbol\": \"x\"}, \"mode\": \"markers\", \"name\": \"Centroids\", \"x\": [5, 5], \"y\": [5, 5], \"type\": \"scatter\"}], \"layout\": {\"title\": {\"text\": \"Iteration 1 - Assignment Step\"}}}, {\"data\": [{\"marker\": {\"color\": [\"#EF553B\", \"#EF553B\", \"#EF553B\", \"#636EFA\", \"#EF553B\", \"#EF553B\", \"#636EFA\", \"#636EFA\", \"#636EFA\", \"#636EFA\", \"#EF553B\", \"#EF553B\", \"#EF553B\", \"#EF553B\", \"#EF553B\", \"#EF553B\"], \"symbol\": \"circle-open\"}, \"mode\": \"markers\", \"name\": \"Data-points\", \"x\": [-1, 0, 0, 1, 9, 10, 10, 11, 9, 10, 10, 11, -1, 0, 0, 1], \"y\": [0, -1, 1, 0, 10, 9, 11, 10, 0, -1, 1, 0, 10, 9, 11, 10], \"type\": \"scatter\"}, {\"marker\": {\"color\": [\"#636EFA\", \"#EF553B\", \"#00CC96\", \"#AB63FA\", \"#FFA15A\", \"#19D3F3\", \"#FF6692\", \"#B6E880\", \"#FF97FF\", \"#FECB52\"], \"size\": 10, \"symbol\": \"x\"}, \"mode\": \"markers\", \"name\": \"Centroids\", \"x\": [8.2, 3.5454545454545454], \"y\": [4.0, 5.454545454545454], \"type\": \"scatter\"}], \"layout\": {\"title\": {\"text\": \"Iteration 1 - Update Centroids Step - Cost 28.566\"}}}, {\"data\": [{\"marker\": {\"color\": [\"#EF553B\", \"#EF553B\", \"#EF553B\", \"#EF553B\", \"#636EFA\", \"#636EFA\", \"#636EFA\", \"#636EFA\", \"#636EFA\", \"#636EFA\", \"#636EFA\", \"#636EFA\", \"#EF553B\", \"#EF553B\", \"#EF553B\", \"#EF553B\"], \"symbol\": \"circle-open\"}, \"mode\": \"markers\", \"name\": \"Data-points\", \"x\": [-1, 0, 0, 1, 9, 10, 10, 11, 9, 10, 10, 11, -1, 0, 0, 1], \"y\": [0, -1, 1, 0, 10, 9, 11, 10, 0, -1, 1, 0, 10, 9, 11, 10], \"type\": \"scatter\"}, {\"marker\": {\"color\": [\"#636EFA\", \"#EF553B\", \"#00CC96\", \"#AB63FA\", \"#FFA15A\", \"#19D3F3\", \"#FF6692\", \"#B6E880\", \"#FF97FF\", \"#FECB52\"], \"size\": 10, \"symbol\": \"x\"}, \"mode\": \"markers\", \"name\": \"Centroids\", \"x\": [8.2, 3.5454545454545454], \"y\": [4.0, 5.454545454545454], \"type\": \"scatter\"}], \"layout\": {\"title\": {\"text\": \"Iteration 2 - Assignment Step\"}}}, {\"data\": [{\"marker\": {\"color\": [\"#EF553B\", \"#EF553B\", \"#EF553B\", \"#EF553B\", \"#636EFA\", \"#636EFA\", \"#636EFA\", \"#636EFA\", \"#636EFA\", \"#636EFA\", \"#636EFA\", \"#636EFA\", \"#EF553B\", \"#EF553B\", \"#EF553B\", \"#EF553B\"], \"symbol\": \"circle-open\"}, \"mode\": \"markers\", \"name\": \"Data-points\", \"x\": [-1, 0, 0, 1, 9, 10, 10, 11, 9, 10, 10, 11, -1, 0, 0, 1], \"y\": [0, -1, 1, 0, 10, 9, 11, 10, 0, -1, 1, 0, 10, 9, 11, 10], \"type\": \"scatter\"}, {\"marker\": {\"color\": [\"#636EFA\", \"#EF553B\", \"#00CC96\", \"#AB63FA\", \"#FFA15A\", \"#19D3F3\", \"#FF6692\", \"#B6E880\", \"#FF97FF\", \"#FECB52\"], \"size\": 10, \"symbol\": \"x\"}, \"mode\": \"markers\", \"name\": \"Centroids\", \"x\": [10.0, 0.0], \"y\": [5.0, 5.0], \"type\": \"scatter\"}], \"layout\": {\"title\": {\"text\": \"Iteration 2 - Update Centroids Step - Cost 23.498\"}}}, {\"data\": [{\"marker\": {\"color\": [\"#EF553B\", \"#EF553B\", \"#EF553B\", \"#EF553B\", \"#636EFA\", \"#636EFA\", \"#636EFA\", \"#636EFA\", \"#636EFA\", \"#636EFA\", \"#636EFA\", \"#636EFA\", \"#EF553B\", \"#EF553B\", \"#EF553B\", \"#EF553B\"], \"symbol\": \"circle-open\"}, \"mode\": \"markers\", \"name\": \"Data-points\", \"x\": [-1, 0, 0, 1, 9, 10, 10, 11, 9, 10, 10, 11, -1, 0, 0, 1], \"y\": [0, -1, 1, 0, 10, 9, 11, 10, 0, -1, 1, 0, 10, 9, 11, 10], \"type\": \"scatter\"}, {\"marker\": {\"color\": [\"#636EFA\", \"#EF553B\", \"#00CC96\", \"#AB63FA\", \"#FFA15A\", \"#19D3F3\", \"#FF6692\", \"#B6E880\", \"#FF97FF\", \"#FECB52\"], \"size\": 10, \"symbol\": \"x\"}, \"mode\": \"markers\", \"name\": \"Centroids\", \"x\": [10.0, 0.0], \"y\": [5.0, 5.0], \"type\": \"scatter\"}], \"layout\": {\"title\": {\"text\": \"Iteration 3 - Assignment Step\"}}}, {\"data\": [{\"marker\": {\"color\": [\"#EF553B\", \"#EF553B\", \"#EF553B\", \"#EF553B\", \"#636EFA\", \"#636EFA\", \"#636EFA\", \"#636EFA\", \"#636EFA\", \"#636EFA\", \"#636EFA\", \"#636EFA\", \"#EF553B\", \"#EF553B\", \"#EF553B\", \"#EF553B\"], \"symbol\": \"circle-open\"}, \"mode\": \"markers\", \"name\": \"Data-points\", \"x\": [-1, 0, 0, 1, 9, 10, 10, 11, 9, 10, 10, 11, -1, 0, 0, 1], \"y\": [0, -1, 1, 0, 10, 9, 11, 10, 0, -1, 1, 0, 10, 9, 11, 10], \"type\": \"scatter\"}, {\"marker\": {\"color\": [\"#636EFA\", \"#EF553B\", \"#00CC96\", \"#AB63FA\", \"#FFA15A\", \"#19D3F3\", \"#FF6692\", \"#B6E880\", \"#FF97FF\", \"#FECB52\"], \"size\": 10, \"symbol\": \"x\"}, \"mode\": \"markers\", \"name\": \"Centroids\", \"x\": [10.0, 0.0], \"y\": [5.0, 5.0], \"type\": \"scatter\"}], \"layout\": {\"title\": {\"text\": \"Converged - Required 3 Iterations - Final Cost 20.396\"}}}]);\n",
       "                        }).then(function(){\n",
       "                            \n",
       "var gd = document.getElementById('1edb44cc-33eb-4990-9a1f-543d4c06ec50');\n",
       "var x = new MutationObserver(function (mutations, observer) {{\n",
       "        var display = window.getComputedStyle(gd).display;\n",
       "        if (!display || display === 'none') {{\n",
       "            console.log([gd, 'removed!']);\n",
       "            Plotly.purge(gd);\n",
       "            observer.disconnect();\n",
       "        }}\n",
       "}});\n",
       "\n",
       "// Listen for the removal of the full notebook cells\n",
       "var notebookContainer = gd.closest('#notebook-container');\n",
       "if (notebookContainer) {{\n",
       "    x.observe(notebookContainer, {childList: true});\n",
       "}}\n",
       "\n",
       "// Listen for the clearing of the current output cell\n",
       "var outputEl = gd.closest('.output');\n",
       "if (outputEl) {{\n",
       "    x.observe(outputEl, {childList: true});\n",
       "}}\n",
       "\n",
       "                        })                };                });            </script>        </div>"
      ]
     },
     "metadata": {},
     "output_type": "display_data"
    }
   ],
   "source": [
    "X = np.array([[-1,0,0,1],[0,-1,1,0]]).T\n",
    "X = np.concatenate([X + [0, 0], X + [10, 10], X + [10, 0], X + [0, 10]])\n",
    "\n",
    "centroids = np.array([[5,5],[5,5]])\n",
    "\n",
    "animate_kmeans(X, K_Means(initial_centroids=centroids, tie_breaking=\"random\").fit(X), \n",
    "               frame_duration=500, save_to=\"../kmeans-multiple-a.gif\")\n",
    "animate_kmeans(X, K_Means(initial_centroids=centroids, tie_breaking=\"random\").fit(X), \n",
    "               frame_duration=500, save_to=\"../kmeans-multiple-b.gif\")"
   ]
  },
  {
   "cell_type": "markdown",
   "metadata": {},
   "source": [
    "### Sub-optimal Solution Scenario"
   ]
  },
  {
   "cell_type": "code",
   "execution_count": 6,
   "metadata": {},
   "outputs": [
    {
     "data": {
      "application/vnd.plotly.v1+json": {
       "config": {
        "plotlyServerURL": "https://plot.ly"
       },
       "data": [
        {
         "marker": {
          "color": [
           "lightgrey",
           "lightgrey",
           "lightgrey",
           "lightgrey",
           "lightgrey",
           "lightgrey",
           "lightgrey",
           "lightgrey",
           "lightgrey",
           "lightgrey",
           "lightgrey",
           "lightgrey",
           "lightgrey",
           "lightgrey",
           "lightgrey",
           "lightgrey"
          ],
          "symbol": "circle-open"
         },
         "mode": "markers",
         "name": "Data-points",
         "type": "scatter",
         "x": [
          -1,
          0,
          0,
          1,
          19,
          20,
          20,
          21,
          19,
          20,
          20,
          21,
          -1,
          0,
          0,
          1
         ],
         "y": [
          0,
          -1,
          1,
          0,
          10,
          9,
          11,
          10,
          0,
          -1,
          1,
          0,
          10,
          9,
          11,
          10
         ]
        },
        {
         "marker": {
          "color": [
           "#636EFA",
           "#EF553B",
           "#00CC96",
           "#AB63FA",
           "#FFA15A",
           "#19D3F3",
           "#FF6692",
           "#B6E880",
           "#FF97FF",
           "#FECB52"
          ],
          "size": 10,
          "symbol": "x"
         },
         "mode": "markers",
         "name": "Centroids",
         "type": "scatter",
         "x": [
          10,
          10
         ],
         "y": [
          6,
          4
         ]
        }
       ],
       "frames": [
        {
         "data": [
          {
           "marker": {
            "color": [
             "lightgrey",
             "lightgrey",
             "lightgrey",
             "lightgrey",
             "lightgrey",
             "lightgrey",
             "lightgrey",
             "lightgrey",
             "lightgrey",
             "lightgrey",
             "lightgrey",
             "lightgrey",
             "lightgrey",
             "lightgrey",
             "lightgrey",
             "lightgrey"
            ],
            "symbol": "circle-open"
           },
           "mode": "markers",
           "name": "Data-points",
           "type": "scatter",
           "x": [
            -1,
            0,
            0,
            1,
            19,
            20,
            20,
            21,
            19,
            20,
            20,
            21,
            -1,
            0,
            0,
            1
           ],
           "y": [
            0,
            -1,
            1,
            0,
            10,
            9,
            11,
            10,
            0,
            -1,
            1,
            0,
            10,
            9,
            11,
            10
           ]
          },
          {
           "marker": {
            "color": [
             "#636EFA",
             "#EF553B",
             "#00CC96",
             "#AB63FA",
             "#FFA15A",
             "#19D3F3",
             "#FF6692",
             "#B6E880",
             "#FF97FF",
             "#FECB52"
            ],
            "size": 10,
            "symbol": "x"
           },
           "mode": "markers",
           "name": "Centroids",
           "type": "scatter",
           "x": [
            10,
            10
           ],
           "y": [
            6,
            4
           ]
          }
         ],
         "layout": {
          "title": {
           "text": "Initialization"
          }
         }
        },
        {
         "data": [
          {
           "marker": {
            "color": [
             "#EF553B",
             "#EF553B",
             "#EF553B",
             "#EF553B",
             "#636EFA",
             "#636EFA",
             "#636EFA",
             "#636EFA",
             "#EF553B",
             "#EF553B",
             "#EF553B",
             "#EF553B",
             "#636EFA",
             "#636EFA",
             "#636EFA",
             "#636EFA"
            ],
            "symbol": "circle-open"
           },
           "mode": "markers",
           "name": "Data-points",
           "type": "scatter",
           "x": [
            -1,
            0,
            0,
            1,
            19,
            20,
            20,
            21,
            19,
            20,
            20,
            21,
            -1,
            0,
            0,
            1
           ],
           "y": [
            0,
            -1,
            1,
            0,
            10,
            9,
            11,
            10,
            0,
            -1,
            1,
            0,
            10,
            9,
            11,
            10
           ]
          },
          {
           "marker": {
            "color": [
             "#636EFA",
             "#EF553B",
             "#00CC96",
             "#AB63FA",
             "#FFA15A",
             "#19D3F3",
             "#FF6692",
             "#B6E880",
             "#FF97FF",
             "#FECB52"
            ],
            "size": 10,
            "symbol": "x"
           },
           "mode": "markers",
           "name": "Centroids",
           "type": "scatter",
           "x": [
            10,
            10
           ],
           "y": [
            6,
            4
           ]
          }
         ],
         "layout": {
          "title": {
           "text": "Iteration 1 - Assignment Step"
          }
         }
        },
        {
         "data": [
          {
           "marker": {
            "color": [
             "#EF553B",
             "#EF553B",
             "#EF553B",
             "#EF553B",
             "#636EFA",
             "#636EFA",
             "#636EFA",
             "#636EFA",
             "#EF553B",
             "#EF553B",
             "#EF553B",
             "#EF553B",
             "#636EFA",
             "#636EFA",
             "#636EFA",
             "#636EFA"
            ],
            "symbol": "circle-open"
           },
           "mode": "markers",
           "name": "Data-points",
           "type": "scatter",
           "x": [
            -1,
            0,
            0,
            1,
            19,
            20,
            20,
            21,
            19,
            20,
            20,
            21,
            -1,
            0,
            0,
            1
           ],
           "y": [
            0,
            -1,
            1,
            0,
            10,
            9,
            11,
            10,
            0,
            -1,
            1,
            0,
            10,
            9,
            11,
            10
           ]
          },
          {
           "marker": {
            "color": [
             "#636EFA",
             "#EF553B",
             "#00CC96",
             "#AB63FA",
             "#FFA15A",
             "#19D3F3",
             "#FF6692",
             "#B6E880",
             "#FF97FF",
             "#FECB52"
            ],
            "size": 10,
            "symbol": "x"
           },
           "mode": "markers",
           "name": "Centroids",
           "type": "scatter",
           "x": [
            10,
            10
           ],
           "y": [
            10,
            0
           ]
          }
         ],
         "layout": {
          "title": {
           "text": "Iteration 1 - Update Centroids Step - Cost 43.267"
          }
         }
        },
        {
         "data": [
          {
           "marker": {
            "color": [
             "#EF553B",
             "#EF553B",
             "#EF553B",
             "#EF553B",
             "#636EFA",
             "#636EFA",
             "#636EFA",
             "#636EFA",
             "#EF553B",
             "#EF553B",
             "#EF553B",
             "#EF553B",
             "#636EFA",
             "#636EFA",
             "#636EFA",
             "#636EFA"
            ],
            "symbol": "circle-open"
           },
           "mode": "markers",
           "name": "Data-points",
           "type": "scatter",
           "x": [
            -1,
            0,
            0,
            1,
            19,
            20,
            20,
            21,
            19,
            20,
            20,
            21,
            -1,
            0,
            0,
            1
           ],
           "y": [
            0,
            -1,
            1,
            0,
            10,
            9,
            11,
            10,
            0,
            -1,
            1,
            0,
            10,
            9,
            11,
            10
           ]
          },
          {
           "marker": {
            "color": [
             "#636EFA",
             "#EF553B",
             "#00CC96",
             "#AB63FA",
             "#FFA15A",
             "#19D3F3",
             "#FF6692",
             "#B6E880",
             "#FF97FF",
             "#FECB52"
            ],
            "size": 10,
            "symbol": "x"
           },
           "mode": "markers",
           "name": "Centroids",
           "type": "scatter",
           "x": [
            10,
            10
           ],
           "y": [
            10,
            0
           ]
          }
         ],
         "layout": {
          "title": {
           "text": "Iteration 2 - Assignment Step"
          }
         }
        },
        {
         "data": [
          {
           "marker": {
            "color": [
             "#EF553B",
             "#EF553B",
             "#EF553B",
             "#EF553B",
             "#636EFA",
             "#636EFA",
             "#636EFA",
             "#636EFA",
             "#EF553B",
             "#EF553B",
             "#EF553B",
             "#EF553B",
             "#636EFA",
             "#636EFA",
             "#636EFA",
             "#636EFA"
            ],
            "symbol": "circle-open"
           },
           "mode": "markers",
           "name": "Data-points",
           "type": "scatter",
           "x": [
            -1,
            0,
            0,
            1,
            19,
            20,
            20,
            21,
            19,
            20,
            20,
            21,
            -1,
            0,
            0,
            1
           ],
           "y": [
            0,
            -1,
            1,
            0,
            10,
            9,
            11,
            10,
            0,
            -1,
            1,
            0,
            10,
            9,
            11,
            10
           ]
          },
          {
           "marker": {
            "color": [
             "#636EFA",
             "#EF553B",
             "#00CC96",
             "#AB63FA",
             "#FFA15A",
             "#19D3F3",
             "#FF6692",
             "#B6E880",
             "#FF97FF",
             "#FECB52"
            ],
            "size": 10,
            "symbol": "x"
           },
           "mode": "markers",
           "name": "Centroids",
           "type": "scatter",
           "x": [
            10,
            10
           ],
           "y": [
            10,
            0
           ]
          }
         ],
         "layout": {
          "title": {
           "text": "Converged - Required 2 Iterations - Final Cost 40.2"
          }
         }
        }
       ],
       "layout": {
        "template": {
         "data": {
          "bar": [
           {
            "error_x": {
             "color": "rgb(36,36,36)"
            },
            "error_y": {
             "color": "rgb(36,36,36)"
            },
            "marker": {
             "line": {
              "color": "white",
              "width": 0.5
             }
            },
            "type": "bar"
           }
          ],
          "barpolar": [
           {
            "marker": {
             "line": {
              "color": "white",
              "width": 0.5
             }
            },
            "type": "barpolar"
           }
          ],
          "carpet": [
           {
            "aaxis": {
             "endlinecolor": "rgb(36,36,36)",
             "gridcolor": "white",
             "linecolor": "white",
             "minorgridcolor": "white",
             "startlinecolor": "rgb(36,36,36)"
            },
            "baxis": {
             "endlinecolor": "rgb(36,36,36)",
             "gridcolor": "white",
             "linecolor": "white",
             "minorgridcolor": "white",
             "startlinecolor": "rgb(36,36,36)"
            },
            "type": "carpet"
           }
          ],
          "choropleth": [
           {
            "colorbar": {
             "outlinewidth": 1,
             "tickcolor": "rgb(36,36,36)",
             "ticks": "outside"
            },
            "type": "choropleth"
           }
          ],
          "contour": [
           {
            "colorbar": {
             "outlinewidth": 1,
             "tickcolor": "rgb(36,36,36)",
             "ticks": "outside"
            },
            "colorscale": [
             [
              0,
              "#440154"
             ],
             [
              0.1111111111111111,
              "#482878"
             ],
             [
              0.2222222222222222,
              "#3e4989"
             ],
             [
              0.3333333333333333,
              "#31688e"
             ],
             [
              0.4444444444444444,
              "#26828e"
             ],
             [
              0.5555555555555556,
              "#1f9e89"
             ],
             [
              0.6666666666666666,
              "#35b779"
             ],
             [
              0.7777777777777778,
              "#6ece58"
             ],
             [
              0.8888888888888888,
              "#b5de2b"
             ],
             [
              1,
              "#fde725"
             ]
            ],
            "type": "contour"
           }
          ],
          "contourcarpet": [
           {
            "colorbar": {
             "outlinewidth": 1,
             "tickcolor": "rgb(36,36,36)",
             "ticks": "outside"
            },
            "type": "contourcarpet"
           }
          ],
          "heatmap": [
           {
            "colorbar": {
             "outlinewidth": 1,
             "tickcolor": "rgb(36,36,36)",
             "ticks": "outside"
            },
            "colorscale": [
             [
              0,
              "#440154"
             ],
             [
              0.1111111111111111,
              "#482878"
             ],
             [
              0.2222222222222222,
              "#3e4989"
             ],
             [
              0.3333333333333333,
              "#31688e"
             ],
             [
              0.4444444444444444,
              "#26828e"
             ],
             [
              0.5555555555555556,
              "#1f9e89"
             ],
             [
              0.6666666666666666,
              "#35b779"
             ],
             [
              0.7777777777777778,
              "#6ece58"
             ],
             [
              0.8888888888888888,
              "#b5de2b"
             ],
             [
              1,
              "#fde725"
             ]
            ],
            "type": "heatmap"
           }
          ],
          "heatmapgl": [
           {
            "colorbar": {
             "outlinewidth": 1,
             "tickcolor": "rgb(36,36,36)",
             "ticks": "outside"
            },
            "colorscale": [
             [
              0,
              "#440154"
             ],
             [
              0.1111111111111111,
              "#482878"
             ],
             [
              0.2222222222222222,
              "#3e4989"
             ],
             [
              0.3333333333333333,
              "#31688e"
             ],
             [
              0.4444444444444444,
              "#26828e"
             ],
             [
              0.5555555555555556,
              "#1f9e89"
             ],
             [
              0.6666666666666666,
              "#35b779"
             ],
             [
              0.7777777777777778,
              "#6ece58"
             ],
             [
              0.8888888888888888,
              "#b5de2b"
             ],
             [
              1,
              "#fde725"
             ]
            ],
            "type": "heatmapgl"
           }
          ],
          "histogram": [
           {
            "marker": {
             "line": {
              "color": "white",
              "width": 0.6
             }
            },
            "type": "histogram"
           }
          ],
          "histogram2d": [
           {
            "colorbar": {
             "outlinewidth": 1,
             "tickcolor": "rgb(36,36,36)",
             "ticks": "outside"
            },
            "colorscale": [
             [
              0,
              "#440154"
             ],
             [
              0.1111111111111111,
              "#482878"
             ],
             [
              0.2222222222222222,
              "#3e4989"
             ],
             [
              0.3333333333333333,
              "#31688e"
             ],
             [
              0.4444444444444444,
              "#26828e"
             ],
             [
              0.5555555555555556,
              "#1f9e89"
             ],
             [
              0.6666666666666666,
              "#35b779"
             ],
             [
              0.7777777777777778,
              "#6ece58"
             ],
             [
              0.8888888888888888,
              "#b5de2b"
             ],
             [
              1,
              "#fde725"
             ]
            ],
            "type": "histogram2d"
           }
          ],
          "histogram2dcontour": [
           {
            "colorbar": {
             "outlinewidth": 1,
             "tickcolor": "rgb(36,36,36)",
             "ticks": "outside"
            },
            "colorscale": [
             [
              0,
              "#440154"
             ],
             [
              0.1111111111111111,
              "#482878"
             ],
             [
              0.2222222222222222,
              "#3e4989"
             ],
             [
              0.3333333333333333,
              "#31688e"
             ],
             [
              0.4444444444444444,
              "#26828e"
             ],
             [
              0.5555555555555556,
              "#1f9e89"
             ],
             [
              0.6666666666666666,
              "#35b779"
             ],
             [
              0.7777777777777778,
              "#6ece58"
             ],
             [
              0.8888888888888888,
              "#b5de2b"
             ],
             [
              1,
              "#fde725"
             ]
            ],
            "type": "histogram2dcontour"
           }
          ],
          "mesh3d": [
           {
            "colorbar": {
             "outlinewidth": 1,
             "tickcolor": "rgb(36,36,36)",
             "ticks": "outside"
            },
            "type": "mesh3d"
           }
          ],
          "parcoords": [
           {
            "line": {
             "colorbar": {
              "outlinewidth": 1,
              "tickcolor": "rgb(36,36,36)",
              "ticks": "outside"
             }
            },
            "type": "parcoords"
           }
          ],
          "pie": [
           {
            "automargin": true,
            "type": "pie"
           }
          ],
          "scatter": [
           {
            "marker": {
             "colorbar": {
              "outlinewidth": 1,
              "tickcolor": "rgb(36,36,36)",
              "ticks": "outside"
             }
            },
            "type": "scatter"
           }
          ],
          "scatter3d": [
           {
            "line": {
             "colorbar": {
              "outlinewidth": 1,
              "tickcolor": "rgb(36,36,36)",
              "ticks": "outside"
             }
            },
            "marker": {
             "colorbar": {
              "outlinewidth": 1,
              "tickcolor": "rgb(36,36,36)",
              "ticks": "outside"
             }
            },
            "type": "scatter3d"
           }
          ],
          "scattercarpet": [
           {
            "marker": {
             "colorbar": {
              "outlinewidth": 1,
              "tickcolor": "rgb(36,36,36)",
              "ticks": "outside"
             }
            },
            "type": "scattercarpet"
           }
          ],
          "scattergeo": [
           {
            "marker": {
             "colorbar": {
              "outlinewidth": 1,
              "tickcolor": "rgb(36,36,36)",
              "ticks": "outside"
             }
            },
            "type": "scattergeo"
           }
          ],
          "scattergl": [
           {
            "marker": {
             "colorbar": {
              "outlinewidth": 1,
              "tickcolor": "rgb(36,36,36)",
              "ticks": "outside"
             }
            },
            "type": "scattergl"
           }
          ],
          "scattermapbox": [
           {
            "marker": {
             "colorbar": {
              "outlinewidth": 1,
              "tickcolor": "rgb(36,36,36)",
              "ticks": "outside"
             }
            },
            "type": "scattermapbox"
           }
          ],
          "scatterpolar": [
           {
            "marker": {
             "colorbar": {
              "outlinewidth": 1,
              "tickcolor": "rgb(36,36,36)",
              "ticks": "outside"
             }
            },
            "type": "scatterpolar"
           }
          ],
          "scatterpolargl": [
           {
            "marker": {
             "colorbar": {
              "outlinewidth": 1,
              "tickcolor": "rgb(36,36,36)",
              "ticks": "outside"
             }
            },
            "type": "scatterpolargl"
           }
          ],
          "scatterternary": [
           {
            "marker": {
             "colorbar": {
              "outlinewidth": 1,
              "tickcolor": "rgb(36,36,36)",
              "ticks": "outside"
             }
            },
            "type": "scatterternary"
           }
          ],
          "surface": [
           {
            "colorbar": {
             "outlinewidth": 1,
             "tickcolor": "rgb(36,36,36)",
             "ticks": "outside"
            },
            "colorscale": [
             [
              0,
              "#440154"
             ],
             [
              0.1111111111111111,
              "#482878"
             ],
             [
              0.2222222222222222,
              "#3e4989"
             ],
             [
              0.3333333333333333,
              "#31688e"
             ],
             [
              0.4444444444444444,
              "#26828e"
             ],
             [
              0.5555555555555556,
              "#1f9e89"
             ],
             [
              0.6666666666666666,
              "#35b779"
             ],
             [
              0.7777777777777778,
              "#6ece58"
             ],
             [
              0.8888888888888888,
              "#b5de2b"
             ],
             [
              1,
              "#fde725"
             ]
            ],
            "type": "surface"
           }
          ],
          "table": [
           {
            "cells": {
             "fill": {
              "color": "rgb(237,237,237)"
             },
             "line": {
              "color": "white"
             }
            },
            "header": {
             "fill": {
              "color": "rgb(217,217,217)"
             },
             "line": {
              "color": "white"
             }
            },
            "type": "table"
           }
          ]
         },
         "layout": {
          "annotationdefaults": {
           "arrowhead": 0,
           "arrowwidth": 1
          },
          "autotypenumbers": "strict",
          "coloraxis": {
           "colorbar": {
            "outlinewidth": 1,
            "tickcolor": "rgb(36,36,36)",
            "ticks": "outside"
           }
          },
          "colorscale": {
           "diverging": [
            [
             0,
             "rgb(103,0,31)"
            ],
            [
             0.1,
             "rgb(178,24,43)"
            ],
            [
             0.2,
             "rgb(214,96,77)"
            ],
            [
             0.3,
             "rgb(244,165,130)"
            ],
            [
             0.4,
             "rgb(253,219,199)"
            ],
            [
             0.5,
             "rgb(247,247,247)"
            ],
            [
             0.6,
             "rgb(209,229,240)"
            ],
            [
             0.7,
             "rgb(146,197,222)"
            ],
            [
             0.8,
             "rgb(67,147,195)"
            ],
            [
             0.9,
             "rgb(33,102,172)"
            ],
            [
             1,
             "rgb(5,48,97)"
            ]
           ],
           "sequential": [
            [
             0,
             "#440154"
            ],
            [
             0.1111111111111111,
             "#482878"
            ],
            [
             0.2222222222222222,
             "#3e4989"
            ],
            [
             0.3333333333333333,
             "#31688e"
            ],
            [
             0.4444444444444444,
             "#26828e"
            ],
            [
             0.5555555555555556,
             "#1f9e89"
            ],
            [
             0.6666666666666666,
             "#35b779"
            ],
            [
             0.7777777777777778,
             "#6ece58"
            ],
            [
             0.8888888888888888,
             "#b5de2b"
            ],
            [
             1,
             "#fde725"
            ]
           ],
           "sequentialminus": [
            [
             0,
             "#440154"
            ],
            [
             0.1111111111111111,
             "#482878"
            ],
            [
             0.2222222222222222,
             "#3e4989"
            ],
            [
             0.3333333333333333,
             "#31688e"
            ],
            [
             0.4444444444444444,
             "#26828e"
            ],
            [
             0.5555555555555556,
             "#1f9e89"
            ],
            [
             0.6666666666666666,
             "#35b779"
            ],
            [
             0.7777777777777778,
             "#6ece58"
            ],
            [
             0.8888888888888888,
             "#b5de2b"
            ],
            [
             1,
             "#fde725"
            ]
           ]
          },
          "colorway": [
           "#1F77B4",
           "#FF7F0E",
           "#2CA02C",
           "#D62728",
           "#9467BD",
           "#8C564B",
           "#E377C2",
           "#7F7F7F",
           "#BCBD22",
           "#17BECF"
          ],
          "font": {
           "color": "rgb(36,36,36)"
          },
          "geo": {
           "bgcolor": "white",
           "lakecolor": "white",
           "landcolor": "white",
           "showlakes": true,
           "showland": true,
           "subunitcolor": "white"
          },
          "hoverlabel": {
           "align": "left"
          },
          "hovermode": "closest",
          "mapbox": {
           "style": "light"
          },
          "margin": {
           "b": 0,
           "l": 20,
           "r": 20,
           "t": 40
          },
          "paper_bgcolor": "white",
          "plot_bgcolor": "white",
          "polar": {
           "angularaxis": {
            "gridcolor": "rgb(232,232,232)",
            "linecolor": "rgb(36,36,36)",
            "showgrid": false,
            "showline": true,
            "ticks": "outside"
           },
           "bgcolor": "white",
           "radialaxis": {
            "gridcolor": "rgb(232,232,232)",
            "linecolor": "rgb(36,36,36)",
            "showgrid": false,
            "showline": true,
            "ticks": "outside"
           }
          },
          "scene": {
           "xaxis": {
            "backgroundcolor": "white",
            "gridcolor": "rgb(232,232,232)",
            "gridwidth": 2,
            "linecolor": "rgb(36,36,36)",
            "showbackground": true,
            "showgrid": false,
            "showline": true,
            "ticks": "outside",
            "zeroline": false,
            "zerolinecolor": "rgb(36,36,36)"
           },
           "yaxis": {
            "backgroundcolor": "white",
            "gridcolor": "rgb(232,232,232)",
            "gridwidth": 2,
            "linecolor": "rgb(36,36,36)",
            "showbackground": true,
            "showgrid": false,
            "showline": true,
            "ticks": "outside",
            "zeroline": false,
            "zerolinecolor": "rgb(36,36,36)"
           },
           "zaxis": {
            "backgroundcolor": "white",
            "gridcolor": "rgb(232,232,232)",
            "gridwidth": 2,
            "linecolor": "rgb(36,36,36)",
            "showbackground": true,
            "showgrid": false,
            "showline": true,
            "ticks": "outside",
            "zeroline": false,
            "zerolinecolor": "rgb(36,36,36)"
           }
          },
          "shapedefaults": {
           "fillcolor": "black",
           "line": {
            "width": 0
           },
           "opacity": 0.3
          },
          "ternary": {
           "aaxis": {
            "gridcolor": "rgb(232,232,232)",
            "linecolor": "rgb(36,36,36)",
            "showgrid": false,
            "showline": true,
            "ticks": "outside"
           },
           "baxis": {
            "gridcolor": "rgb(232,232,232)",
            "linecolor": "rgb(36,36,36)",
            "showgrid": false,
            "showline": true,
            "ticks": "outside"
           },
           "bgcolor": "white",
           "caxis": {
            "gridcolor": "rgb(232,232,232)",
            "linecolor": "rgb(36,36,36)",
            "showgrid": false,
            "showline": true,
            "ticks": "outside"
           }
          },
          "title": {
           "x": 0.05
          },
          "xaxis": {
           "automargin": true,
           "gridcolor": "rgb(232,232,232)",
           "linecolor": "rgb(36,36,36)",
           "showgrid": false,
           "showline": true,
           "ticks": "outside",
           "title": {
            "standoff": 15
           },
           "zeroline": false,
           "zerolinecolor": "rgb(36,36,36)"
          },
          "yaxis": {
           "automargin": true,
           "gridcolor": "rgb(232,232,232)",
           "linecolor": "rgb(36,36,36)",
           "showgrid": false,
           "showline": true,
           "ticks": "outside",
           "title": {
            "standoff": 15
           },
           "zeroline": false,
           "zerolinecolor": "rgb(36,36,36)"
          }
         }
        },
        "title": {
         "text": "Initialization"
        },
        "updatemenus": [
         {
          "buttons": [
           {
            "args": [
             null,
             {
              "frame": {
               "duration": 500
              }
             }
            ],
            "label": "Play",
            "method": "animate"
           },
           {
            "args": [
             [
              null
             ],
             {
              "frame": {
               "duration": 0,
               "redraw": false
              },
              "mode": "immediate",
              "transition": {
               "duration": 0
              }
             }
            ],
            "label": "Pause",
            "method": "animate"
           }
          ],
          "type": "buttons",
          "visible": true
         }
        ]
       }
      },
      "text/html": [
       "<div>                            <div id=\"0b440253-1871-47d6-9442-39ee1557138c\" class=\"plotly-graph-div\" style=\"height:525px; width:100%;\"></div>            <script type=\"text/javascript\">                require([\"plotly\"], function(Plotly) {                    window.PLOTLYENV=window.PLOTLYENV || {};                                    if (document.getElementById(\"0b440253-1871-47d6-9442-39ee1557138c\")) {                    Plotly.newPlot(                        \"0b440253-1871-47d6-9442-39ee1557138c\",                        [{\"marker\": {\"color\": [\"lightgrey\", \"lightgrey\", \"lightgrey\", \"lightgrey\", \"lightgrey\", \"lightgrey\", \"lightgrey\", \"lightgrey\", \"lightgrey\", \"lightgrey\", \"lightgrey\", \"lightgrey\", \"lightgrey\", \"lightgrey\", \"lightgrey\", \"lightgrey\"], \"symbol\": \"circle-open\"}, \"mode\": \"markers\", \"name\": \"Data-points\", \"type\": \"scatter\", \"x\": [-1, 0, 0, 1, 19, 20, 20, 21, 19, 20, 20, 21, -1, 0, 0, 1], \"y\": [0, -1, 1, 0, 10, 9, 11, 10, 0, -1, 1, 0, 10, 9, 11, 10]}, {\"marker\": {\"color\": [\"#636EFA\", \"#EF553B\", \"#00CC96\", \"#AB63FA\", \"#FFA15A\", \"#19D3F3\", \"#FF6692\", \"#B6E880\", \"#FF97FF\", \"#FECB52\"], \"size\": 10, \"symbol\": \"x\"}, \"mode\": \"markers\", \"name\": \"Centroids\", \"type\": \"scatter\", \"x\": [10, 10], \"y\": [6, 4]}],                        {\"template\": {\"data\": {\"bar\": [{\"error_x\": {\"color\": \"rgb(36,36,36)\"}, \"error_y\": {\"color\": \"rgb(36,36,36)\"}, \"marker\": {\"line\": {\"color\": \"white\", \"width\": 0.5}}, \"type\": \"bar\"}], \"barpolar\": [{\"marker\": {\"line\": {\"color\": \"white\", \"width\": 0.5}}, \"type\": \"barpolar\"}], \"carpet\": [{\"aaxis\": {\"endlinecolor\": \"rgb(36,36,36)\", \"gridcolor\": \"white\", \"linecolor\": \"white\", \"minorgridcolor\": \"white\", \"startlinecolor\": \"rgb(36,36,36)\"}, \"baxis\": {\"endlinecolor\": \"rgb(36,36,36)\", \"gridcolor\": \"white\", \"linecolor\": \"white\", \"minorgridcolor\": \"white\", \"startlinecolor\": \"rgb(36,36,36)\"}, \"type\": \"carpet\"}], \"choropleth\": [{\"colorbar\": {\"outlinewidth\": 1, \"tickcolor\": \"rgb(36,36,36)\", \"ticks\": \"outside\"}, \"type\": \"choropleth\"}], \"contour\": [{\"colorbar\": {\"outlinewidth\": 1, \"tickcolor\": \"rgb(36,36,36)\", \"ticks\": \"outside\"}, \"colorscale\": [[0.0, \"#440154\"], [0.1111111111111111, \"#482878\"], [0.2222222222222222, \"#3e4989\"], [0.3333333333333333, \"#31688e\"], [0.4444444444444444, \"#26828e\"], [0.5555555555555556, \"#1f9e89\"], [0.6666666666666666, \"#35b779\"], [0.7777777777777778, \"#6ece58\"], [0.8888888888888888, \"#b5de2b\"], [1.0, \"#fde725\"]], \"type\": \"contour\"}], \"contourcarpet\": [{\"colorbar\": {\"outlinewidth\": 1, \"tickcolor\": \"rgb(36,36,36)\", \"ticks\": \"outside\"}, \"type\": \"contourcarpet\"}], \"heatmap\": [{\"colorbar\": {\"outlinewidth\": 1, \"tickcolor\": \"rgb(36,36,36)\", \"ticks\": \"outside\"}, \"colorscale\": [[0.0, \"#440154\"], [0.1111111111111111, \"#482878\"], [0.2222222222222222, \"#3e4989\"], [0.3333333333333333, \"#31688e\"], [0.4444444444444444, \"#26828e\"], [0.5555555555555556, \"#1f9e89\"], [0.6666666666666666, \"#35b779\"], [0.7777777777777778, \"#6ece58\"], [0.8888888888888888, \"#b5de2b\"], [1.0, \"#fde725\"]], \"type\": \"heatmap\"}], \"heatmapgl\": [{\"colorbar\": {\"outlinewidth\": 1, \"tickcolor\": \"rgb(36,36,36)\", \"ticks\": \"outside\"}, \"colorscale\": [[0.0, \"#440154\"], [0.1111111111111111, \"#482878\"], [0.2222222222222222, \"#3e4989\"], [0.3333333333333333, \"#31688e\"], [0.4444444444444444, \"#26828e\"], [0.5555555555555556, \"#1f9e89\"], [0.6666666666666666, \"#35b779\"], [0.7777777777777778, \"#6ece58\"], [0.8888888888888888, \"#b5de2b\"], [1.0, \"#fde725\"]], \"type\": \"heatmapgl\"}], \"histogram\": [{\"marker\": {\"line\": {\"color\": \"white\", \"width\": 0.6}}, \"type\": \"histogram\"}], \"histogram2d\": [{\"colorbar\": {\"outlinewidth\": 1, \"tickcolor\": \"rgb(36,36,36)\", \"ticks\": \"outside\"}, \"colorscale\": [[0.0, \"#440154\"], [0.1111111111111111, \"#482878\"], [0.2222222222222222, \"#3e4989\"], [0.3333333333333333, \"#31688e\"], [0.4444444444444444, \"#26828e\"], [0.5555555555555556, \"#1f9e89\"], [0.6666666666666666, \"#35b779\"], [0.7777777777777778, \"#6ece58\"], [0.8888888888888888, \"#b5de2b\"], [1.0, \"#fde725\"]], \"type\": \"histogram2d\"}], \"histogram2dcontour\": [{\"colorbar\": {\"outlinewidth\": 1, \"tickcolor\": \"rgb(36,36,36)\", \"ticks\": \"outside\"}, \"colorscale\": [[0.0, \"#440154\"], [0.1111111111111111, \"#482878\"], [0.2222222222222222, \"#3e4989\"], [0.3333333333333333, \"#31688e\"], [0.4444444444444444, \"#26828e\"], [0.5555555555555556, \"#1f9e89\"], [0.6666666666666666, \"#35b779\"], [0.7777777777777778, \"#6ece58\"], [0.8888888888888888, \"#b5de2b\"], [1.0, \"#fde725\"]], \"type\": \"histogram2dcontour\"}], \"mesh3d\": [{\"colorbar\": {\"outlinewidth\": 1, \"tickcolor\": \"rgb(36,36,36)\", \"ticks\": \"outside\"}, \"type\": \"mesh3d\"}], \"parcoords\": [{\"line\": {\"colorbar\": {\"outlinewidth\": 1, \"tickcolor\": \"rgb(36,36,36)\", \"ticks\": \"outside\"}}, \"type\": \"parcoords\"}], \"pie\": [{\"automargin\": true, \"type\": \"pie\"}], \"scatter\": [{\"marker\": {\"colorbar\": {\"outlinewidth\": 1, \"tickcolor\": \"rgb(36,36,36)\", \"ticks\": \"outside\"}}, \"type\": \"scatter\"}], \"scatter3d\": [{\"line\": {\"colorbar\": {\"outlinewidth\": 1, \"tickcolor\": \"rgb(36,36,36)\", \"ticks\": \"outside\"}}, \"marker\": {\"colorbar\": {\"outlinewidth\": 1, \"tickcolor\": \"rgb(36,36,36)\", \"ticks\": \"outside\"}}, \"type\": \"scatter3d\"}], \"scattercarpet\": [{\"marker\": {\"colorbar\": {\"outlinewidth\": 1, \"tickcolor\": \"rgb(36,36,36)\", \"ticks\": \"outside\"}}, \"type\": \"scattercarpet\"}], \"scattergeo\": [{\"marker\": {\"colorbar\": {\"outlinewidth\": 1, \"tickcolor\": \"rgb(36,36,36)\", \"ticks\": \"outside\"}}, \"type\": \"scattergeo\"}], \"scattergl\": [{\"marker\": {\"colorbar\": {\"outlinewidth\": 1, \"tickcolor\": \"rgb(36,36,36)\", \"ticks\": \"outside\"}}, \"type\": \"scattergl\"}], \"scattermapbox\": [{\"marker\": {\"colorbar\": {\"outlinewidth\": 1, \"tickcolor\": \"rgb(36,36,36)\", \"ticks\": \"outside\"}}, \"type\": \"scattermapbox\"}], \"scatterpolar\": [{\"marker\": {\"colorbar\": {\"outlinewidth\": 1, \"tickcolor\": \"rgb(36,36,36)\", \"ticks\": \"outside\"}}, \"type\": \"scatterpolar\"}], \"scatterpolargl\": [{\"marker\": {\"colorbar\": {\"outlinewidth\": 1, \"tickcolor\": \"rgb(36,36,36)\", \"ticks\": \"outside\"}}, \"type\": \"scatterpolargl\"}], \"scatterternary\": [{\"marker\": {\"colorbar\": {\"outlinewidth\": 1, \"tickcolor\": \"rgb(36,36,36)\", \"ticks\": \"outside\"}}, \"type\": \"scatterternary\"}], \"surface\": [{\"colorbar\": {\"outlinewidth\": 1, \"tickcolor\": \"rgb(36,36,36)\", \"ticks\": \"outside\"}, \"colorscale\": [[0.0, \"#440154\"], [0.1111111111111111, \"#482878\"], [0.2222222222222222, \"#3e4989\"], [0.3333333333333333, \"#31688e\"], [0.4444444444444444, \"#26828e\"], [0.5555555555555556, \"#1f9e89\"], [0.6666666666666666, \"#35b779\"], [0.7777777777777778, \"#6ece58\"], [0.8888888888888888, \"#b5de2b\"], [1.0, \"#fde725\"]], \"type\": \"surface\"}], \"table\": [{\"cells\": {\"fill\": {\"color\": \"rgb(237,237,237)\"}, \"line\": {\"color\": \"white\"}}, \"header\": {\"fill\": {\"color\": \"rgb(217,217,217)\"}, \"line\": {\"color\": \"white\"}}, \"type\": \"table\"}]}, \"layout\": {\"annotationdefaults\": {\"arrowhead\": 0, \"arrowwidth\": 1}, \"autotypenumbers\": \"strict\", \"coloraxis\": {\"colorbar\": {\"outlinewidth\": 1, \"tickcolor\": \"rgb(36,36,36)\", \"ticks\": \"outside\"}}, \"colorscale\": {\"diverging\": [[0.0, \"rgb(103,0,31)\"], [0.1, \"rgb(178,24,43)\"], [0.2, \"rgb(214,96,77)\"], [0.3, \"rgb(244,165,130)\"], [0.4, \"rgb(253,219,199)\"], [0.5, \"rgb(247,247,247)\"], [0.6, \"rgb(209,229,240)\"], [0.7, \"rgb(146,197,222)\"], [0.8, \"rgb(67,147,195)\"], [0.9, \"rgb(33,102,172)\"], [1.0, \"rgb(5,48,97)\"]], \"sequential\": [[0.0, \"#440154\"], [0.1111111111111111, \"#482878\"], [0.2222222222222222, \"#3e4989\"], [0.3333333333333333, \"#31688e\"], [0.4444444444444444, \"#26828e\"], [0.5555555555555556, \"#1f9e89\"], [0.6666666666666666, \"#35b779\"], [0.7777777777777778, \"#6ece58\"], [0.8888888888888888, \"#b5de2b\"], [1.0, \"#fde725\"]], \"sequentialminus\": [[0.0, \"#440154\"], [0.1111111111111111, \"#482878\"], [0.2222222222222222, \"#3e4989\"], [0.3333333333333333, \"#31688e\"], [0.4444444444444444, \"#26828e\"], [0.5555555555555556, \"#1f9e89\"], [0.6666666666666666, \"#35b779\"], [0.7777777777777778, \"#6ece58\"], [0.8888888888888888, \"#b5de2b\"], [1.0, \"#fde725\"]]}, \"colorway\": [\"#1F77B4\", \"#FF7F0E\", \"#2CA02C\", \"#D62728\", \"#9467BD\", \"#8C564B\", \"#E377C2\", \"#7F7F7F\", \"#BCBD22\", \"#17BECF\"], \"font\": {\"color\": \"rgb(36,36,36)\"}, \"geo\": {\"bgcolor\": \"white\", \"lakecolor\": \"white\", \"landcolor\": \"white\", \"showlakes\": true, \"showland\": true, \"subunitcolor\": \"white\"}, \"hoverlabel\": {\"align\": \"left\"}, \"hovermode\": \"closest\", \"mapbox\": {\"style\": \"light\"}, \"margin\": {\"b\": 0, \"l\": 20, \"r\": 20, \"t\": 40}, \"paper_bgcolor\": \"white\", \"plot_bgcolor\": \"white\", \"polar\": {\"angularaxis\": {\"gridcolor\": \"rgb(232,232,232)\", \"linecolor\": \"rgb(36,36,36)\", \"showgrid\": false, \"showline\": true, \"ticks\": \"outside\"}, \"bgcolor\": \"white\", \"radialaxis\": {\"gridcolor\": \"rgb(232,232,232)\", \"linecolor\": \"rgb(36,36,36)\", \"showgrid\": false, \"showline\": true, \"ticks\": \"outside\"}}, \"scene\": {\"xaxis\": {\"backgroundcolor\": \"white\", \"gridcolor\": \"rgb(232,232,232)\", \"gridwidth\": 2, \"linecolor\": \"rgb(36,36,36)\", \"showbackground\": true, \"showgrid\": false, \"showline\": true, \"ticks\": \"outside\", \"zeroline\": false, \"zerolinecolor\": \"rgb(36,36,36)\"}, \"yaxis\": {\"backgroundcolor\": \"white\", \"gridcolor\": \"rgb(232,232,232)\", \"gridwidth\": 2, \"linecolor\": \"rgb(36,36,36)\", \"showbackground\": true, \"showgrid\": false, \"showline\": true, \"ticks\": \"outside\", \"zeroline\": false, \"zerolinecolor\": \"rgb(36,36,36)\"}, \"zaxis\": {\"backgroundcolor\": \"white\", \"gridcolor\": \"rgb(232,232,232)\", \"gridwidth\": 2, \"linecolor\": \"rgb(36,36,36)\", \"showbackground\": true, \"showgrid\": false, \"showline\": true, \"ticks\": \"outside\", \"zeroline\": false, \"zerolinecolor\": \"rgb(36,36,36)\"}}, \"shapedefaults\": {\"fillcolor\": \"black\", \"line\": {\"width\": 0}, \"opacity\": 0.3}, \"ternary\": {\"aaxis\": {\"gridcolor\": \"rgb(232,232,232)\", \"linecolor\": \"rgb(36,36,36)\", \"showgrid\": false, \"showline\": true, \"ticks\": \"outside\"}, \"baxis\": {\"gridcolor\": \"rgb(232,232,232)\", \"linecolor\": \"rgb(36,36,36)\", \"showgrid\": false, \"showline\": true, \"ticks\": \"outside\"}, \"bgcolor\": \"white\", \"caxis\": {\"gridcolor\": \"rgb(232,232,232)\", \"linecolor\": \"rgb(36,36,36)\", \"showgrid\": false, \"showline\": true, \"ticks\": \"outside\"}}, \"title\": {\"x\": 0.05}, \"xaxis\": {\"automargin\": true, \"gridcolor\": \"rgb(232,232,232)\", \"linecolor\": \"rgb(36,36,36)\", \"showgrid\": false, \"showline\": true, \"ticks\": \"outside\", \"title\": {\"standoff\": 15}, \"zeroline\": false, \"zerolinecolor\": \"rgb(36,36,36)\"}, \"yaxis\": {\"automargin\": true, \"gridcolor\": \"rgb(232,232,232)\", \"linecolor\": \"rgb(36,36,36)\", \"showgrid\": false, \"showline\": true, \"ticks\": \"outside\", \"title\": {\"standoff\": 15}, \"zeroline\": false, \"zerolinecolor\": \"rgb(36,36,36)\"}}}, \"title\": {\"text\": \"Initialization\"}, \"updatemenus\": [{\"buttons\": [{\"args\": [null, {\"frame\": {\"duration\": 500}}], \"label\": \"Play\", \"method\": \"animate\"}, {\"args\": [[null], {\"frame\": {\"duration\": 0, \"redraw\": false}, \"mode\": \"immediate\", \"transition\": {\"duration\": 0}}], \"label\": \"Pause\", \"method\": \"animate\"}], \"type\": \"buttons\", \"visible\": true}]},                        {\"responsive\": true}                    ).then(function(){\n",
       "                            Plotly.addFrames('0b440253-1871-47d6-9442-39ee1557138c', [{\"data\": [{\"marker\": {\"color\": [\"lightgrey\", \"lightgrey\", \"lightgrey\", \"lightgrey\", \"lightgrey\", \"lightgrey\", \"lightgrey\", \"lightgrey\", \"lightgrey\", \"lightgrey\", \"lightgrey\", \"lightgrey\", \"lightgrey\", \"lightgrey\", \"lightgrey\", \"lightgrey\"], \"symbol\": \"circle-open\"}, \"mode\": \"markers\", \"name\": \"Data-points\", \"x\": [-1, 0, 0, 1, 19, 20, 20, 21, 19, 20, 20, 21, -1, 0, 0, 1], \"y\": [0, -1, 1, 0, 10, 9, 11, 10, 0, -1, 1, 0, 10, 9, 11, 10], \"type\": \"scatter\"}, {\"marker\": {\"color\": [\"#636EFA\", \"#EF553B\", \"#00CC96\", \"#AB63FA\", \"#FFA15A\", \"#19D3F3\", \"#FF6692\", \"#B6E880\", \"#FF97FF\", \"#FECB52\"], \"size\": 10, \"symbol\": \"x\"}, \"mode\": \"markers\", \"name\": \"Centroids\", \"x\": [10, 10], \"y\": [6, 4], \"type\": \"scatter\"}], \"layout\": {\"title\": {\"text\": \"Initialization\"}}}, {\"data\": [{\"marker\": {\"color\": [\"#EF553B\", \"#EF553B\", \"#EF553B\", \"#EF553B\", \"#636EFA\", \"#636EFA\", \"#636EFA\", \"#636EFA\", \"#EF553B\", \"#EF553B\", \"#EF553B\", \"#EF553B\", \"#636EFA\", \"#636EFA\", \"#636EFA\", \"#636EFA\"], \"symbol\": \"circle-open\"}, \"mode\": \"markers\", \"name\": \"Data-points\", \"x\": [-1, 0, 0, 1, 19, 20, 20, 21, 19, 20, 20, 21, -1, 0, 0, 1], \"y\": [0, -1, 1, 0, 10, 9, 11, 10, 0, -1, 1, 0, 10, 9, 11, 10], \"type\": \"scatter\"}, {\"marker\": {\"color\": [\"#636EFA\", \"#EF553B\", \"#00CC96\", \"#AB63FA\", \"#FFA15A\", \"#19D3F3\", \"#FF6692\", \"#B6E880\", \"#FF97FF\", \"#FECB52\"], \"size\": 10, \"symbol\": \"x\"}, \"mode\": \"markers\", \"name\": \"Centroids\", \"x\": [10, 10], \"y\": [6, 4], \"type\": \"scatter\"}], \"layout\": {\"title\": {\"text\": \"Iteration 1 - Assignment Step\"}}}, {\"data\": [{\"marker\": {\"color\": [\"#EF553B\", \"#EF553B\", \"#EF553B\", \"#EF553B\", \"#636EFA\", \"#636EFA\", \"#636EFA\", \"#636EFA\", \"#EF553B\", \"#EF553B\", \"#EF553B\", \"#EF553B\", \"#636EFA\", \"#636EFA\", \"#636EFA\", \"#636EFA\"], \"symbol\": \"circle-open\"}, \"mode\": \"markers\", \"name\": \"Data-points\", \"x\": [-1, 0, 0, 1, 19, 20, 20, 21, 19, 20, 20, 21, -1, 0, 0, 1], \"y\": [0, -1, 1, 0, 10, 9, 11, 10, 0, -1, 1, 0, 10, 9, 11, 10], \"type\": \"scatter\"}, {\"marker\": {\"color\": [\"#636EFA\", \"#EF553B\", \"#00CC96\", \"#AB63FA\", \"#FFA15A\", \"#19D3F3\", \"#FF6692\", \"#B6E880\", \"#FF97FF\", \"#FECB52\"], \"size\": 10, \"symbol\": \"x\"}, \"mode\": \"markers\", \"name\": \"Centroids\", \"x\": [10.0, 10.0], \"y\": [10.0, 0.0], \"type\": \"scatter\"}], \"layout\": {\"title\": {\"text\": \"Iteration 1 - Update Centroids Step - Cost 43.267\"}}}, {\"data\": [{\"marker\": {\"color\": [\"#EF553B\", \"#EF553B\", \"#EF553B\", \"#EF553B\", \"#636EFA\", \"#636EFA\", \"#636EFA\", \"#636EFA\", \"#EF553B\", \"#EF553B\", \"#EF553B\", \"#EF553B\", \"#636EFA\", \"#636EFA\", \"#636EFA\", \"#636EFA\"], \"symbol\": \"circle-open\"}, \"mode\": \"markers\", \"name\": \"Data-points\", \"x\": [-1, 0, 0, 1, 19, 20, 20, 21, 19, 20, 20, 21, -1, 0, 0, 1], \"y\": [0, -1, 1, 0, 10, 9, 11, 10, 0, -1, 1, 0, 10, 9, 11, 10], \"type\": \"scatter\"}, {\"marker\": {\"color\": [\"#636EFA\", \"#EF553B\", \"#00CC96\", \"#AB63FA\", \"#FFA15A\", \"#19D3F3\", \"#FF6692\", \"#B6E880\", \"#FF97FF\", \"#FECB52\"], \"size\": 10, \"symbol\": \"x\"}, \"mode\": \"markers\", \"name\": \"Centroids\", \"x\": [10.0, 10.0], \"y\": [10.0, 0.0], \"type\": \"scatter\"}], \"layout\": {\"title\": {\"text\": \"Iteration 2 - Assignment Step\"}}}, {\"data\": [{\"marker\": {\"color\": [\"#EF553B\", \"#EF553B\", \"#EF553B\", \"#EF553B\", \"#636EFA\", \"#636EFA\", \"#636EFA\", \"#636EFA\", \"#EF553B\", \"#EF553B\", \"#EF553B\", \"#EF553B\", \"#636EFA\", \"#636EFA\", \"#636EFA\", \"#636EFA\"], \"symbol\": \"circle-open\"}, \"mode\": \"markers\", \"name\": \"Data-points\", \"x\": [-1, 0, 0, 1, 19, 20, 20, 21, 19, 20, 20, 21, -1, 0, 0, 1], \"y\": [0, -1, 1, 0, 10, 9, 11, 10, 0, -1, 1, 0, 10, 9, 11, 10], \"type\": \"scatter\"}, {\"marker\": {\"color\": [\"#636EFA\", \"#EF553B\", \"#00CC96\", \"#AB63FA\", \"#FFA15A\", \"#19D3F3\", \"#FF6692\", \"#B6E880\", \"#FF97FF\", \"#FECB52\"], \"size\": 10, \"symbol\": \"x\"}, \"mode\": \"markers\", \"name\": \"Centroids\", \"x\": [10.0, 10.0], \"y\": [10.0, 0.0], \"type\": \"scatter\"}], \"layout\": {\"title\": {\"text\": \"Converged - Required 2 Iterations - Final Cost 40.2\"}}}]);\n",
       "                        }).then(function(){\n",
       "                            \n",
       "var gd = document.getElementById('0b440253-1871-47d6-9442-39ee1557138c');\n",
       "var x = new MutationObserver(function (mutations, observer) {{\n",
       "        var display = window.getComputedStyle(gd).display;\n",
       "        if (!display || display === 'none') {{\n",
       "            console.log([gd, 'removed!']);\n",
       "            Plotly.purge(gd);\n",
       "            observer.disconnect();\n",
       "        }}\n",
       "}});\n",
       "\n",
       "// Listen for the removal of the full notebook cells\n",
       "var notebookContainer = gd.closest('#notebook-container');\n",
       "if (notebookContainer) {{\n",
       "    x.observe(notebookContainer, {childList: true});\n",
       "}}\n",
       "\n",
       "// Listen for the clearing of the current output cell\n",
       "var outputEl = gd.closest('.output');\n",
       "if (outputEl) {{\n",
       "    x.observe(outputEl, {childList: true});\n",
       "}}\n",
       "\n",
       "                        })                };                });            </script>        </div>"
      ]
     },
     "metadata": {},
     "output_type": "display_data"
    }
   ],
   "source": [
    "X = np.array([[-1,0,0,1],[0,-1,1,0]]).T\n",
    "X = np.concatenate([X + [0, 0], X + [20, 10], X + [20, 0], X + [0, 10]])\n",
    "\n",
    "centroids = np.array([[10,6],[10,4]])\n",
    "\n",
    "animate_kmeans(X, K_Means(initial_centroids=centroids, tie_breaking=\"random\").fit(X), \n",
    "               frame_duration=500, save_to=\"../kmeans-suboptimal.gif\")"
   ]
  },
  {
   "cell_type": "markdown",
   "metadata": {},
   "source": [
    "### Hyper-parameter Selection\n",
    "Using `sklearn`'s K-Means implementation, we demonstrate selecting the number of clusters using the elbow-plot approach"
   ]
  },
  {
   "cell_type": "code",
   "execution_count": 7,
   "metadata": {},
   "outputs": [
    {
     "name": "stderr",
     "output_type": "stream",
     "text": [
      "C:\\Users\\gilad\\anaconda3\\envs\\iml.env\\lib\\site-packages\\sklearn\\cluster\\_kmeans.py:882: UserWarning:\n",
      "\n",
      "KMeans is known to have a memory leak on Windows with MKL, when there are less chunks than available threads. You can avoid it by setting the environment variable OMP_NUM_THREADS=1.\n",
      "\n"
     ]
    },
    {
     "data": {
      "application/vnd.plotly.v1+json": {
       "config": {
        "plotlyServerURL": "https://plot.ly"
       },
       "data": [
        {
         "marker": {
          "color": "black",
          "opacity": 0.7
         },
         "mode": "markers",
         "showlegend": false,
         "type": "scatter",
         "x": [
          0.8092639418860346,
          -0.12640325599976826,
          -0.7642744278712091,
          0.37491419544229093,
          1.4456800218768768,
          -0.7463078830100631,
          -0.5932846202662004,
          0.8366428969013973,
          0.4772590581969206,
          0.714241222826716,
          -0.9539734129258423,
          -0.3062917447505901,
          1.9410712882501262,
          -0.1701229743229102,
          0.8975100318543144,
          -0.1821584404215115,
          1.8469309702176189,
          1.1278489988021179,
          0.12224499982150741,
          1.201096905893788,
          -0.5777011900410615,
          0.48428656418224114,
          0.2669551855497835,
          0.22610588561291625,
          0.004403124142176966,
          0.2590780027208988,
          2.3072384739780465,
          0.6109791464617117,
          0.30384136488898483,
          -1.5628363513655736,
          4.610294160236745,
          5.9772694074425265,
          5.388952049943148,
          5.634524636809014,
          6.635764712034857,
          6.171105921080324,
          5.274806917509362,
          5.327065859087717,
          4.293949877383757,
          5.757079861664222,
          5.378872366199081,
          6.136949892514915,
          7.438899026842066,
          3.9978319060682685,
          6.477589633860678,
          6.491817945149984,
          5.7442871944300915,
          5.632201812021321,
          3.9488356420707293,
          4.359557261330683,
          6.776785970176012,
          7.5964451044857615,
          4.82269638236758,
          6.163718984919569,
          7.026187933903444,
          5.337187986412993,
          5.5484618104536185,
          7.166819399076151,
          7.1123415969788075,
          4.857495726176964,
          1.605277506634256,
          4.551007294077156,
          3.4864742990956703,
          2.7683742479235827,
          1.7137186841536498,
          2.0008043731404843,
          2.0537150450277,
          1.9362335593458773,
          1.9433695074510215,
          2.3499011094363755,
          0.08653471000645374,
          1.825164679743434,
          1.7695586437074473,
          -0.8554342461948425,
          2.175370819654782,
          2.970686845613332,
          3.438507049443914,
          1.2470954246883652,
          3.38311386777631,
          3.17575748169398,
          0.687138019732666,
          1.8418767333671833,
          1.636541607458366,
          2.741546550790519,
          2.5723827348349158,
          1.9213788282733453,
          1.4486882381336896,
          2.262756375924168,
          3.2157102315571207,
          1.356353982868273,
          2.346103151283786,
          3.3892032898735063,
          6.383681532178315,
          4.9411920812129475,
          7.799239754978476,
          7.189611931810644,
          5.444086328877823,
          4.233242353494656,
          2.886917004895848,
          5.4723109466986,
          5.708429546445803,
          4.588197460073143,
          6.943923866398115,
          4.556155542501734,
          6.740472907487393,
          3.9669172161020363,
          5.2783467780307,
          5.2632460751034,
          5.418652103800661,
          6.081108906844224,
          7.013829427741504,
          4.31877352426631,
          5.681464032050854,
          5.691574224500012,
          4.652754175824091,
          5.500785488454394,
          5.476182519069688,
          4.9252648614327095,
          5.052687605746412,
          6.097471559944831
         ],
         "xaxis": "x",
         "y": [
          0.6310805193675937,
          0.9732470751209451,
          -1.0793893608851541,
          -0.6226363126556689,
          0.24944021370840797,
          -1.0786312091520847,
          -1.9100387792311218,
          -0.9534301346567094,
          -0.5566591074236766,
          -1.5071819586512443,
          -1.3390785540280177,
          2.81995560379966,
          -1.4598410852803057,
          -0.3384743730259537,
          1.0988690525346825,
          -0.04472192048619195,
          0.6707198976073225,
          0.2937773322604297,
          1.4442851292030983,
          -2.357990103358666,
          0.1661943510177192,
          0.5823360707837505,
          0.46298038402813446,
          1.4411999279957994,
          0.46426807450383334,
          -0.05478530593308305,
          -0.19502653910643308,
          0.6462689724233417,
          0.2480116998618768,
          -0.9564566384518962,
          -0.7725985519741272,
          0.8382971193389811,
          -0.2683839435662607,
          -1.6171228358762701,
          0.20548375947672579,
          -0.16636650904774689,
          0.3383036225200595,
          -0.5885736188448445,
          1.1251698641679229,
          0.9887463088537958,
          -0.4211873042493969,
          0.5805460877374334,
          -0.023925324730556384,
          1.131423513597425,
          0.48501012895027973,
          -0.8134047175674621,
          1.5062205194746183,
          -0.3008889135422509,
          -0.3475940712021307,
          -0.6669819485528803,
          -0.35362424266498693,
          -0.8289935753246814,
          -2.126357789395918,
          -0.7275651873988942,
          -0.8336806326212712,
          0.7176682415329361,
          -0.3337594823591238,
          -0.532346733495514,
          0.8878781575828848,
          0.4257694416548272,
          4.271930601493236,
          4.371834632821212,
          3.280738529850258,
          4.517156259249371,
          5.132666626660132,
          5.294543929390571,
          6.133707154535459,
          4.327108114043141,
          4.751144243610797,
          3.1721024874176336,
          2.0561289478256644,
          4.777468844312038,
          3.339427485996982,
          3.90505952139408,
          4.017259564230347,
          6.2184652004920125,
          1.9416239852251063,
          2.9263319508411856,
          4.4262261895549715,
          4.059932563066715,
          3.5631286725155453,
          3.543297155218672,
          5.386857152403614,
          3.7673406558387925,
          2.6246127003165376,
          4.101734194363128,
          4.070621987708388,
          5.4751385974075335,
          4.032074357649867,
          3.5166760982204424,
          4.792833222287746,
          5.9755747939752055,
          3.2360071219041098,
          5.763065578275597,
          6.17711594367824,
          6.107595648085628,
          4.79574864988839,
          6.959048364283425,
          4.200817008422579,
          5.1158761730699025,
          4.255495707007061,
          4.914712728532258,
          5.061136958036705,
          5.471532347736665,
          4.40079573566086,
          6.001996274828503,
          3.626219359878533,
          4.234996685358133,
          4.995735580597194,
          5.1350616633117925,
          4.795667787089756,
          4.5989572265254095,
          5.633864868048918,
          6.226601059813832,
          5.756609541228843,
          3.828868767731218,
          6.196591413228068,
          4.493366674514225,
          4.7722575465617885,
          4.829621050765642
         ],
         "yaxis": "y"
        },
        {
         "mode": "markers+lines",
         "showlegend": false,
         "type": "scatter",
         "x": [
          1,
          2,
          3,
          4,
          5,
          6,
          7,
          8,
          9,
          10,
          11,
          12,
          13,
          14,
          15,
          16,
          17,
          18,
          19,
          20
         ],
         "xaxis": "x2",
         "y": [
          1516.6201389961175,
          840.0010863739859,
          384.8762069306995,
          215.79432601061734,
          188.17025821362967,
          167.7454502854676,
          149.78511671752517,
          133.88834961554588,
          119.79971217582414,
          101.88897851111875,
          98.29312148167287,
          88.21001953803105,
          81.23196850600495,
          73.58087510186532,
          71.94617467251932,
          57.632685945716815,
          61.669915721171435,
          51.103288281388544,
          49.634194207337266,
          49.065930392532586
         ],
         "yaxis": "y2"
        }
       ],
       "layout": {
        "height": 300,
        "template": {
         "data": {
          "bar": [
           {
            "error_x": {
             "color": "rgb(36,36,36)"
            },
            "error_y": {
             "color": "rgb(36,36,36)"
            },
            "marker": {
             "line": {
              "color": "white",
              "width": 0.5
             }
            },
            "type": "bar"
           }
          ],
          "barpolar": [
           {
            "marker": {
             "line": {
              "color": "white",
              "width": 0.5
             }
            },
            "type": "barpolar"
           }
          ],
          "carpet": [
           {
            "aaxis": {
             "endlinecolor": "rgb(36,36,36)",
             "gridcolor": "white",
             "linecolor": "white",
             "minorgridcolor": "white",
             "startlinecolor": "rgb(36,36,36)"
            },
            "baxis": {
             "endlinecolor": "rgb(36,36,36)",
             "gridcolor": "white",
             "linecolor": "white",
             "minorgridcolor": "white",
             "startlinecolor": "rgb(36,36,36)"
            },
            "type": "carpet"
           }
          ],
          "choropleth": [
           {
            "colorbar": {
             "outlinewidth": 1,
             "tickcolor": "rgb(36,36,36)",
             "ticks": "outside"
            },
            "type": "choropleth"
           }
          ],
          "contour": [
           {
            "colorbar": {
             "outlinewidth": 1,
             "tickcolor": "rgb(36,36,36)",
             "ticks": "outside"
            },
            "colorscale": [
             [
              0,
              "#440154"
             ],
             [
              0.1111111111111111,
              "#482878"
             ],
             [
              0.2222222222222222,
              "#3e4989"
             ],
             [
              0.3333333333333333,
              "#31688e"
             ],
             [
              0.4444444444444444,
              "#26828e"
             ],
             [
              0.5555555555555556,
              "#1f9e89"
             ],
             [
              0.6666666666666666,
              "#35b779"
             ],
             [
              0.7777777777777778,
              "#6ece58"
             ],
             [
              0.8888888888888888,
              "#b5de2b"
             ],
             [
              1,
              "#fde725"
             ]
            ],
            "type": "contour"
           }
          ],
          "contourcarpet": [
           {
            "colorbar": {
             "outlinewidth": 1,
             "tickcolor": "rgb(36,36,36)",
             "ticks": "outside"
            },
            "type": "contourcarpet"
           }
          ],
          "heatmap": [
           {
            "colorbar": {
             "outlinewidth": 1,
             "tickcolor": "rgb(36,36,36)",
             "ticks": "outside"
            },
            "colorscale": [
             [
              0,
              "#440154"
             ],
             [
              0.1111111111111111,
              "#482878"
             ],
             [
              0.2222222222222222,
              "#3e4989"
             ],
             [
              0.3333333333333333,
              "#31688e"
             ],
             [
              0.4444444444444444,
              "#26828e"
             ],
             [
              0.5555555555555556,
              "#1f9e89"
             ],
             [
              0.6666666666666666,
              "#35b779"
             ],
             [
              0.7777777777777778,
              "#6ece58"
             ],
             [
              0.8888888888888888,
              "#b5de2b"
             ],
             [
              1,
              "#fde725"
             ]
            ],
            "type": "heatmap"
           }
          ],
          "heatmapgl": [
           {
            "colorbar": {
             "outlinewidth": 1,
             "tickcolor": "rgb(36,36,36)",
             "ticks": "outside"
            },
            "colorscale": [
             [
              0,
              "#440154"
             ],
             [
              0.1111111111111111,
              "#482878"
             ],
             [
              0.2222222222222222,
              "#3e4989"
             ],
             [
              0.3333333333333333,
              "#31688e"
             ],
             [
              0.4444444444444444,
              "#26828e"
             ],
             [
              0.5555555555555556,
              "#1f9e89"
             ],
             [
              0.6666666666666666,
              "#35b779"
             ],
             [
              0.7777777777777778,
              "#6ece58"
             ],
             [
              0.8888888888888888,
              "#b5de2b"
             ],
             [
              1,
              "#fde725"
             ]
            ],
            "type": "heatmapgl"
           }
          ],
          "histogram": [
           {
            "marker": {
             "line": {
              "color": "white",
              "width": 0.6
             }
            },
            "type": "histogram"
           }
          ],
          "histogram2d": [
           {
            "colorbar": {
             "outlinewidth": 1,
             "tickcolor": "rgb(36,36,36)",
             "ticks": "outside"
            },
            "colorscale": [
             [
              0,
              "#440154"
             ],
             [
              0.1111111111111111,
              "#482878"
             ],
             [
              0.2222222222222222,
              "#3e4989"
             ],
             [
              0.3333333333333333,
              "#31688e"
             ],
             [
              0.4444444444444444,
              "#26828e"
             ],
             [
              0.5555555555555556,
              "#1f9e89"
             ],
             [
              0.6666666666666666,
              "#35b779"
             ],
             [
              0.7777777777777778,
              "#6ece58"
             ],
             [
              0.8888888888888888,
              "#b5de2b"
             ],
             [
              1,
              "#fde725"
             ]
            ],
            "type": "histogram2d"
           }
          ],
          "histogram2dcontour": [
           {
            "colorbar": {
             "outlinewidth": 1,
             "tickcolor": "rgb(36,36,36)",
             "ticks": "outside"
            },
            "colorscale": [
             [
              0,
              "#440154"
             ],
             [
              0.1111111111111111,
              "#482878"
             ],
             [
              0.2222222222222222,
              "#3e4989"
             ],
             [
              0.3333333333333333,
              "#31688e"
             ],
             [
              0.4444444444444444,
              "#26828e"
             ],
             [
              0.5555555555555556,
              "#1f9e89"
             ],
             [
              0.6666666666666666,
              "#35b779"
             ],
             [
              0.7777777777777778,
              "#6ece58"
             ],
             [
              0.8888888888888888,
              "#b5de2b"
             ],
             [
              1,
              "#fde725"
             ]
            ],
            "type": "histogram2dcontour"
           }
          ],
          "mesh3d": [
           {
            "colorbar": {
             "outlinewidth": 1,
             "tickcolor": "rgb(36,36,36)",
             "ticks": "outside"
            },
            "type": "mesh3d"
           }
          ],
          "parcoords": [
           {
            "line": {
             "colorbar": {
              "outlinewidth": 1,
              "tickcolor": "rgb(36,36,36)",
              "ticks": "outside"
             }
            },
            "type": "parcoords"
           }
          ],
          "pie": [
           {
            "automargin": true,
            "type": "pie"
           }
          ],
          "scatter": [
           {
            "marker": {
             "colorbar": {
              "outlinewidth": 1,
              "tickcolor": "rgb(36,36,36)",
              "ticks": "outside"
             }
            },
            "type": "scatter"
           }
          ],
          "scatter3d": [
           {
            "line": {
             "colorbar": {
              "outlinewidth": 1,
              "tickcolor": "rgb(36,36,36)",
              "ticks": "outside"
             }
            },
            "marker": {
             "colorbar": {
              "outlinewidth": 1,
              "tickcolor": "rgb(36,36,36)",
              "ticks": "outside"
             }
            },
            "type": "scatter3d"
           }
          ],
          "scattercarpet": [
           {
            "marker": {
             "colorbar": {
              "outlinewidth": 1,
              "tickcolor": "rgb(36,36,36)",
              "ticks": "outside"
             }
            },
            "type": "scattercarpet"
           }
          ],
          "scattergeo": [
           {
            "marker": {
             "colorbar": {
              "outlinewidth": 1,
              "tickcolor": "rgb(36,36,36)",
              "ticks": "outside"
             }
            },
            "type": "scattergeo"
           }
          ],
          "scattergl": [
           {
            "marker": {
             "colorbar": {
              "outlinewidth": 1,
              "tickcolor": "rgb(36,36,36)",
              "ticks": "outside"
             }
            },
            "type": "scattergl"
           }
          ],
          "scattermapbox": [
           {
            "marker": {
             "colorbar": {
              "outlinewidth": 1,
              "tickcolor": "rgb(36,36,36)",
              "ticks": "outside"
             }
            },
            "type": "scattermapbox"
           }
          ],
          "scatterpolar": [
           {
            "marker": {
             "colorbar": {
              "outlinewidth": 1,
              "tickcolor": "rgb(36,36,36)",
              "ticks": "outside"
             }
            },
            "type": "scatterpolar"
           }
          ],
          "scatterpolargl": [
           {
            "marker": {
             "colorbar": {
              "outlinewidth": 1,
              "tickcolor": "rgb(36,36,36)",
              "ticks": "outside"
             }
            },
            "type": "scatterpolargl"
           }
          ],
          "scatterternary": [
           {
            "marker": {
             "colorbar": {
              "outlinewidth": 1,
              "tickcolor": "rgb(36,36,36)",
              "ticks": "outside"
             }
            },
            "type": "scatterternary"
           }
          ],
          "surface": [
           {
            "colorbar": {
             "outlinewidth": 1,
             "tickcolor": "rgb(36,36,36)",
             "ticks": "outside"
            },
            "colorscale": [
             [
              0,
              "#440154"
             ],
             [
              0.1111111111111111,
              "#482878"
             ],
             [
              0.2222222222222222,
              "#3e4989"
             ],
             [
              0.3333333333333333,
              "#31688e"
             ],
             [
              0.4444444444444444,
              "#26828e"
             ],
             [
              0.5555555555555556,
              "#1f9e89"
             ],
             [
              0.6666666666666666,
              "#35b779"
             ],
             [
              0.7777777777777778,
              "#6ece58"
             ],
             [
              0.8888888888888888,
              "#b5de2b"
             ],
             [
              1,
              "#fde725"
             ]
            ],
            "type": "surface"
           }
          ],
          "table": [
           {
            "cells": {
             "fill": {
              "color": "rgb(237,237,237)"
             },
             "line": {
              "color": "white"
             }
            },
            "header": {
             "fill": {
              "color": "rgb(217,217,217)"
             },
             "line": {
              "color": "white"
             }
            },
            "type": "table"
           }
          ]
         },
         "layout": {
          "annotationdefaults": {
           "arrowhead": 0,
           "arrowwidth": 1
          },
          "autotypenumbers": "strict",
          "coloraxis": {
           "colorbar": {
            "outlinewidth": 1,
            "tickcolor": "rgb(36,36,36)",
            "ticks": "outside"
           }
          },
          "colorscale": {
           "diverging": [
            [
             0,
             "rgb(103,0,31)"
            ],
            [
             0.1,
             "rgb(178,24,43)"
            ],
            [
             0.2,
             "rgb(214,96,77)"
            ],
            [
             0.3,
             "rgb(244,165,130)"
            ],
            [
             0.4,
             "rgb(253,219,199)"
            ],
            [
             0.5,
             "rgb(247,247,247)"
            ],
            [
             0.6,
             "rgb(209,229,240)"
            ],
            [
             0.7,
             "rgb(146,197,222)"
            ],
            [
             0.8,
             "rgb(67,147,195)"
            ],
            [
             0.9,
             "rgb(33,102,172)"
            ],
            [
             1,
             "rgb(5,48,97)"
            ]
           ],
           "sequential": [
            [
             0,
             "#440154"
            ],
            [
             0.1111111111111111,
             "#482878"
            ],
            [
             0.2222222222222222,
             "#3e4989"
            ],
            [
             0.3333333333333333,
             "#31688e"
            ],
            [
             0.4444444444444444,
             "#26828e"
            ],
            [
             0.5555555555555556,
             "#1f9e89"
            ],
            [
             0.6666666666666666,
             "#35b779"
            ],
            [
             0.7777777777777778,
             "#6ece58"
            ],
            [
             0.8888888888888888,
             "#b5de2b"
            ],
            [
             1,
             "#fde725"
            ]
           ],
           "sequentialminus": [
            [
             0,
             "#440154"
            ],
            [
             0.1111111111111111,
             "#482878"
            ],
            [
             0.2222222222222222,
             "#3e4989"
            ],
            [
             0.3333333333333333,
             "#31688e"
            ],
            [
             0.4444444444444444,
             "#26828e"
            ],
            [
             0.5555555555555556,
             "#1f9e89"
            ],
            [
             0.6666666666666666,
             "#35b779"
            ],
            [
             0.7777777777777778,
             "#6ece58"
            ],
            [
             0.8888888888888888,
             "#b5de2b"
            ],
            [
             1,
             "#fde725"
            ]
           ]
          },
          "colorway": [
           "#1F77B4",
           "#FF7F0E",
           "#2CA02C",
           "#D62728",
           "#9467BD",
           "#8C564B",
           "#E377C2",
           "#7F7F7F",
           "#BCBD22",
           "#17BECF"
          ],
          "font": {
           "color": "rgb(36,36,36)"
          },
          "geo": {
           "bgcolor": "white",
           "lakecolor": "white",
           "landcolor": "white",
           "showlakes": true,
           "showland": true,
           "subunitcolor": "white"
          },
          "hoverlabel": {
           "align": "left"
          },
          "hovermode": "closest",
          "mapbox": {
           "style": "light"
          },
          "margin": {
           "b": 0,
           "l": 20,
           "r": 20,
           "t": 40
          },
          "paper_bgcolor": "white",
          "plot_bgcolor": "white",
          "polar": {
           "angularaxis": {
            "gridcolor": "rgb(232,232,232)",
            "linecolor": "rgb(36,36,36)",
            "showgrid": false,
            "showline": true,
            "ticks": "outside"
           },
           "bgcolor": "white",
           "radialaxis": {
            "gridcolor": "rgb(232,232,232)",
            "linecolor": "rgb(36,36,36)",
            "showgrid": false,
            "showline": true,
            "ticks": "outside"
           }
          },
          "scene": {
           "xaxis": {
            "backgroundcolor": "white",
            "gridcolor": "rgb(232,232,232)",
            "gridwidth": 2,
            "linecolor": "rgb(36,36,36)",
            "showbackground": true,
            "showgrid": false,
            "showline": true,
            "ticks": "outside",
            "zeroline": false,
            "zerolinecolor": "rgb(36,36,36)"
           },
           "yaxis": {
            "backgroundcolor": "white",
            "gridcolor": "rgb(232,232,232)",
            "gridwidth": 2,
            "linecolor": "rgb(36,36,36)",
            "showbackground": true,
            "showgrid": false,
            "showline": true,
            "ticks": "outside",
            "zeroline": false,
            "zerolinecolor": "rgb(36,36,36)"
           },
           "zaxis": {
            "backgroundcolor": "white",
            "gridcolor": "rgb(232,232,232)",
            "gridwidth": 2,
            "linecolor": "rgb(36,36,36)",
            "showbackground": true,
            "showgrid": false,
            "showline": true,
            "ticks": "outside",
            "zeroline": false,
            "zerolinecolor": "rgb(36,36,36)"
           }
          },
          "shapedefaults": {
           "fillcolor": "black",
           "line": {
            "width": 0
           },
           "opacity": 0.3
          },
          "ternary": {
           "aaxis": {
            "gridcolor": "rgb(232,232,232)",
            "linecolor": "rgb(36,36,36)",
            "showgrid": false,
            "showline": true,
            "ticks": "outside"
           },
           "baxis": {
            "gridcolor": "rgb(232,232,232)",
            "linecolor": "rgb(36,36,36)",
            "showgrid": false,
            "showline": true,
            "ticks": "outside"
           },
           "bgcolor": "white",
           "caxis": {
            "gridcolor": "rgb(232,232,232)",
            "linecolor": "rgb(36,36,36)",
            "showgrid": false,
            "showline": true,
            "ticks": "outside"
           }
          },
          "title": {
           "x": 0.05
          },
          "xaxis": {
           "automargin": true,
           "gridcolor": "rgb(232,232,232)",
           "linecolor": "rgb(36,36,36)",
           "showgrid": false,
           "showline": true,
           "ticks": "outside",
           "title": {
            "standoff": 15
           },
           "zeroline": false,
           "zerolinecolor": "rgb(36,36,36)"
          },
          "yaxis": {
           "automargin": true,
           "gridcolor": "rgb(232,232,232)",
           "linecolor": "rgb(36,36,36)",
           "showgrid": false,
           "showline": true,
           "ticks": "outside",
           "title": {
            "standoff": 15
           },
           "zeroline": false,
           "zerolinecolor": "rgb(36,36,36)"
          }
         }
        },
        "title": {
         "text": "$\\text{Sum Of Squared Distances As Function Of }k$"
        },
        "width": 800,
        "xaxis": {
         "anchor": "y",
         "domain": [
          0,
          0.45
         ]
        },
        "xaxis2": {
         "anchor": "y2",
         "domain": [
          0.55,
          1
         ]
        },
        "yaxis": {
         "anchor": "x",
         "domain": [
          0,
          1
         ]
        },
        "yaxis2": {
         "anchor": "x2",
         "domain": [
          0,
          1
         ]
        }
       }
      },
      "text/html": [
       "<div>                            <div id=\"12be48ad-aed8-4f58-b266-1c71e59993f5\" class=\"plotly-graph-div\" style=\"height:300px; width:800px;\"></div>            <script type=\"text/javascript\">                require([\"plotly\"], function(Plotly) {                    window.PLOTLYENV=window.PLOTLYENV || {};                                    if (document.getElementById(\"12be48ad-aed8-4f58-b266-1c71e59993f5\")) {                    Plotly.newPlot(                        \"12be48ad-aed8-4f58-b266-1c71e59993f5\",                        [{\"marker\": {\"color\": \"black\", \"opacity\": 0.7}, \"mode\": \"markers\", \"showlegend\": false, \"type\": \"scatter\", \"x\": [0.8092639418860346, -0.12640325599976826, -0.7642744278712091, 0.37491419544229093, 1.4456800218768768, -0.7463078830100631, -0.5932846202662004, 0.8366428969013973, 0.4772590581969206, 0.714241222826716, -0.9539734129258423, -0.3062917447505901, 1.9410712882501262, -0.1701229743229102, 0.8975100318543144, -0.1821584404215115, 1.8469309702176189, 1.1278489988021179, 0.12224499982150741, 1.201096905893788, -0.5777011900410615, 0.48428656418224114, 0.2669551855497835, 0.22610588561291625, 0.004403124142176966, 0.2590780027208988, 2.3072384739780465, 0.6109791464617117, 0.30384136488898483, -1.5628363513655736, 4.610294160236745, 5.9772694074425265, 5.388952049943148, 5.634524636809014, 6.635764712034857, 6.171105921080324, 5.274806917509362, 5.327065859087717, 4.293949877383757, 5.757079861664222, 5.378872366199081, 6.136949892514915, 7.438899026842066, 3.9978319060682685, 6.477589633860678, 6.491817945149984, 5.7442871944300915, 5.632201812021321, 3.9488356420707293, 4.359557261330683, 6.776785970176012, 7.5964451044857615, 4.82269638236758, 6.163718984919569, 7.026187933903444, 5.337187986412993, 5.5484618104536185, 7.166819399076151, 7.1123415969788075, 4.857495726176964, 1.605277506634256, 4.551007294077156, 3.4864742990956703, 2.7683742479235827, 1.7137186841536498, 2.0008043731404843, 2.0537150450277, 1.9362335593458773, 1.9433695074510215, 2.3499011094363755, 0.08653471000645374, 1.825164679743434, 1.7695586437074473, -0.8554342461948425, 2.175370819654782, 2.970686845613332, 3.438507049443914, 1.2470954246883652, 3.38311386777631, 3.17575748169398, 0.687138019732666, 1.8418767333671833, 1.636541607458366, 2.741546550790519, 2.5723827348349158, 1.9213788282733453, 1.4486882381336896, 2.262756375924168, 3.2157102315571207, 1.356353982868273, 2.346103151283786, 3.3892032898735063, 6.383681532178315, 4.9411920812129475, 7.799239754978476, 7.189611931810644, 5.444086328877823, 4.233242353494656, 2.886917004895848, 5.4723109466986, 5.708429546445803, 4.588197460073143, 6.943923866398115, 4.556155542501734, 6.740472907487393, 3.9669172161020363, 5.2783467780307, 5.2632460751034, 5.418652103800661, 6.081108906844224, 7.013829427741504, 4.31877352426631, 5.681464032050854, 5.691574224500012, 4.652754175824091, 5.500785488454394, 5.476182519069688, 4.9252648614327095, 5.052687605746412, 6.097471559944831], \"xaxis\": \"x\", \"y\": [0.6310805193675937, 0.9732470751209451, -1.0793893608851541, -0.6226363126556689, 0.24944021370840797, -1.0786312091520847, -1.9100387792311218, -0.9534301346567094, -0.5566591074236766, -1.5071819586512443, -1.3390785540280177, 2.81995560379966, -1.4598410852803057, -0.3384743730259537, 1.0988690525346825, -0.04472192048619195, 0.6707198976073225, 0.2937773322604297, 1.4442851292030983, -2.357990103358666, 0.1661943510177192, 0.5823360707837505, 0.46298038402813446, 1.4411999279957994, 0.46426807450383334, -0.05478530593308305, -0.19502653910643308, 0.6462689724233417, 0.2480116998618768, -0.9564566384518962, -0.7725985519741272, 0.8382971193389811, -0.2683839435662607, -1.6171228358762701, 0.20548375947672579, -0.16636650904774689, 0.3383036225200595, -0.5885736188448445, 1.1251698641679229, 0.9887463088537958, -0.4211873042493969, 0.5805460877374334, -0.023925324730556384, 1.131423513597425, 0.48501012895027973, -0.8134047175674621, 1.5062205194746183, -0.3008889135422509, -0.3475940712021307, -0.6669819485528803, -0.35362424266498693, -0.8289935753246814, -2.126357789395918, -0.7275651873988942, -0.8336806326212712, 0.7176682415329361, -0.3337594823591238, -0.532346733495514, 0.8878781575828848, 0.4257694416548272, 4.271930601493236, 4.371834632821212, 3.280738529850258, 4.517156259249371, 5.132666626660132, 5.294543929390571, 6.133707154535459, 4.327108114043141, 4.751144243610797, 3.1721024874176336, 2.0561289478256644, 4.777468844312038, 3.339427485996982, 3.90505952139408, 4.017259564230347, 6.2184652004920125, 1.9416239852251063, 2.9263319508411856, 4.4262261895549715, 4.059932563066715, 3.5631286725155453, 3.543297155218672, 5.386857152403614, 3.7673406558387925, 2.6246127003165376, 4.101734194363128, 4.070621987708388, 5.4751385974075335, 4.032074357649867, 3.5166760982204424, 4.792833222287746, 5.9755747939752055, 3.2360071219041098, 5.763065578275597, 6.17711594367824, 6.107595648085628, 4.79574864988839, 6.959048364283425, 4.200817008422579, 5.1158761730699025, 4.255495707007061, 4.914712728532258, 5.061136958036705, 5.471532347736665, 4.40079573566086, 6.001996274828503, 3.626219359878533, 4.234996685358133, 4.995735580597194, 5.1350616633117925, 4.795667787089756, 4.5989572265254095, 5.633864868048918, 6.226601059813832, 5.756609541228843, 3.828868767731218, 6.196591413228068, 4.493366674514225, 4.7722575465617885, 4.829621050765642], \"yaxis\": \"y\"}, {\"mode\": \"markers+lines\", \"showlegend\": false, \"type\": \"scatter\", \"x\": [1, 2, 3, 4, 5, 6, 7, 8, 9, 10, 11, 12, 13, 14, 15, 16, 17, 18, 19, 20], \"xaxis\": \"x2\", \"y\": [1516.6201389961175, 840.0010863739859, 384.8762069306995, 215.79432601061734, 188.17025821362967, 167.7454502854676, 149.78511671752517, 133.88834961554588, 119.79971217582414, 101.88897851111875, 98.29312148167287, 88.21001953803105, 81.23196850600495, 73.58087510186532, 71.94617467251932, 57.632685945716815, 61.669915721171435, 51.103288281388544, 49.634194207337266, 49.065930392532586], \"yaxis\": \"y2\"}],                        {\"height\": 300, \"template\": {\"data\": {\"bar\": [{\"error_x\": {\"color\": \"rgb(36,36,36)\"}, \"error_y\": {\"color\": \"rgb(36,36,36)\"}, \"marker\": {\"line\": {\"color\": \"white\", \"width\": 0.5}}, \"type\": \"bar\"}], \"barpolar\": [{\"marker\": {\"line\": {\"color\": \"white\", \"width\": 0.5}}, \"type\": \"barpolar\"}], \"carpet\": [{\"aaxis\": {\"endlinecolor\": \"rgb(36,36,36)\", \"gridcolor\": \"white\", \"linecolor\": \"white\", \"minorgridcolor\": \"white\", \"startlinecolor\": \"rgb(36,36,36)\"}, \"baxis\": {\"endlinecolor\": \"rgb(36,36,36)\", \"gridcolor\": \"white\", \"linecolor\": \"white\", \"minorgridcolor\": \"white\", \"startlinecolor\": \"rgb(36,36,36)\"}, \"type\": \"carpet\"}], \"choropleth\": [{\"colorbar\": {\"outlinewidth\": 1, \"tickcolor\": \"rgb(36,36,36)\", \"ticks\": \"outside\"}, \"type\": \"choropleth\"}], \"contour\": [{\"colorbar\": {\"outlinewidth\": 1, \"tickcolor\": \"rgb(36,36,36)\", \"ticks\": \"outside\"}, \"colorscale\": [[0.0, \"#440154\"], [0.1111111111111111, \"#482878\"], [0.2222222222222222, \"#3e4989\"], [0.3333333333333333, \"#31688e\"], [0.4444444444444444, \"#26828e\"], [0.5555555555555556, \"#1f9e89\"], [0.6666666666666666, \"#35b779\"], [0.7777777777777778, \"#6ece58\"], [0.8888888888888888, \"#b5de2b\"], [1.0, \"#fde725\"]], \"type\": \"contour\"}], \"contourcarpet\": [{\"colorbar\": {\"outlinewidth\": 1, \"tickcolor\": \"rgb(36,36,36)\", \"ticks\": \"outside\"}, \"type\": \"contourcarpet\"}], \"heatmap\": [{\"colorbar\": {\"outlinewidth\": 1, \"tickcolor\": \"rgb(36,36,36)\", \"ticks\": \"outside\"}, \"colorscale\": [[0.0, \"#440154\"], [0.1111111111111111, \"#482878\"], [0.2222222222222222, \"#3e4989\"], [0.3333333333333333, \"#31688e\"], [0.4444444444444444, \"#26828e\"], [0.5555555555555556, \"#1f9e89\"], [0.6666666666666666, \"#35b779\"], [0.7777777777777778, \"#6ece58\"], [0.8888888888888888, \"#b5de2b\"], [1.0, \"#fde725\"]], \"type\": \"heatmap\"}], \"heatmapgl\": [{\"colorbar\": {\"outlinewidth\": 1, \"tickcolor\": \"rgb(36,36,36)\", \"ticks\": \"outside\"}, \"colorscale\": [[0.0, \"#440154\"], [0.1111111111111111, \"#482878\"], [0.2222222222222222, \"#3e4989\"], [0.3333333333333333, \"#31688e\"], [0.4444444444444444, \"#26828e\"], [0.5555555555555556, \"#1f9e89\"], [0.6666666666666666, \"#35b779\"], [0.7777777777777778, \"#6ece58\"], [0.8888888888888888, \"#b5de2b\"], [1.0, \"#fde725\"]], \"type\": \"heatmapgl\"}], \"histogram\": [{\"marker\": {\"line\": {\"color\": \"white\", \"width\": 0.6}}, \"type\": \"histogram\"}], \"histogram2d\": [{\"colorbar\": {\"outlinewidth\": 1, \"tickcolor\": \"rgb(36,36,36)\", \"ticks\": \"outside\"}, \"colorscale\": [[0.0, \"#440154\"], [0.1111111111111111, \"#482878\"], [0.2222222222222222, \"#3e4989\"], [0.3333333333333333, \"#31688e\"], [0.4444444444444444, \"#26828e\"], [0.5555555555555556, \"#1f9e89\"], [0.6666666666666666, \"#35b779\"], [0.7777777777777778, \"#6ece58\"], [0.8888888888888888, \"#b5de2b\"], [1.0, \"#fde725\"]], \"type\": \"histogram2d\"}], \"histogram2dcontour\": [{\"colorbar\": {\"outlinewidth\": 1, \"tickcolor\": \"rgb(36,36,36)\", \"ticks\": \"outside\"}, \"colorscale\": [[0.0, \"#440154\"], [0.1111111111111111, \"#482878\"], [0.2222222222222222, \"#3e4989\"], [0.3333333333333333, \"#31688e\"], [0.4444444444444444, \"#26828e\"], [0.5555555555555556, \"#1f9e89\"], [0.6666666666666666, \"#35b779\"], [0.7777777777777778, \"#6ece58\"], [0.8888888888888888, \"#b5de2b\"], [1.0, \"#fde725\"]], \"type\": \"histogram2dcontour\"}], \"mesh3d\": [{\"colorbar\": {\"outlinewidth\": 1, \"tickcolor\": \"rgb(36,36,36)\", \"ticks\": \"outside\"}, \"type\": \"mesh3d\"}], \"parcoords\": [{\"line\": {\"colorbar\": {\"outlinewidth\": 1, \"tickcolor\": \"rgb(36,36,36)\", \"ticks\": \"outside\"}}, \"type\": \"parcoords\"}], \"pie\": [{\"automargin\": true, \"type\": \"pie\"}], \"scatter\": [{\"marker\": {\"colorbar\": {\"outlinewidth\": 1, \"tickcolor\": \"rgb(36,36,36)\", \"ticks\": \"outside\"}}, \"type\": \"scatter\"}], \"scatter3d\": [{\"line\": {\"colorbar\": {\"outlinewidth\": 1, \"tickcolor\": \"rgb(36,36,36)\", \"ticks\": \"outside\"}}, \"marker\": {\"colorbar\": {\"outlinewidth\": 1, \"tickcolor\": \"rgb(36,36,36)\", \"ticks\": \"outside\"}}, \"type\": \"scatter3d\"}], \"scattercarpet\": [{\"marker\": {\"colorbar\": {\"outlinewidth\": 1, \"tickcolor\": \"rgb(36,36,36)\", \"ticks\": \"outside\"}}, \"type\": \"scattercarpet\"}], \"scattergeo\": [{\"marker\": {\"colorbar\": {\"outlinewidth\": 1, \"tickcolor\": \"rgb(36,36,36)\", \"ticks\": \"outside\"}}, \"type\": \"scattergeo\"}], \"scattergl\": [{\"marker\": {\"colorbar\": {\"outlinewidth\": 1, \"tickcolor\": \"rgb(36,36,36)\", \"ticks\": \"outside\"}}, \"type\": \"scattergl\"}], \"scattermapbox\": [{\"marker\": {\"colorbar\": {\"outlinewidth\": 1, \"tickcolor\": \"rgb(36,36,36)\", \"ticks\": \"outside\"}}, \"type\": \"scattermapbox\"}], \"scatterpolar\": [{\"marker\": {\"colorbar\": {\"outlinewidth\": 1, \"tickcolor\": \"rgb(36,36,36)\", \"ticks\": \"outside\"}}, \"type\": \"scatterpolar\"}], \"scatterpolargl\": [{\"marker\": {\"colorbar\": {\"outlinewidth\": 1, \"tickcolor\": \"rgb(36,36,36)\", \"ticks\": \"outside\"}}, \"type\": \"scatterpolargl\"}], \"scatterternary\": [{\"marker\": {\"colorbar\": {\"outlinewidth\": 1, \"tickcolor\": \"rgb(36,36,36)\", \"ticks\": \"outside\"}}, \"type\": \"scatterternary\"}], \"surface\": [{\"colorbar\": {\"outlinewidth\": 1, \"tickcolor\": \"rgb(36,36,36)\", \"ticks\": \"outside\"}, \"colorscale\": [[0.0, \"#440154\"], [0.1111111111111111, \"#482878\"], [0.2222222222222222, \"#3e4989\"], [0.3333333333333333, \"#31688e\"], [0.4444444444444444, \"#26828e\"], [0.5555555555555556, \"#1f9e89\"], [0.6666666666666666, \"#35b779\"], [0.7777777777777778, \"#6ece58\"], [0.8888888888888888, \"#b5de2b\"], [1.0, \"#fde725\"]], \"type\": \"surface\"}], \"table\": [{\"cells\": {\"fill\": {\"color\": \"rgb(237,237,237)\"}, \"line\": {\"color\": \"white\"}}, \"header\": {\"fill\": {\"color\": \"rgb(217,217,217)\"}, \"line\": {\"color\": \"white\"}}, \"type\": \"table\"}]}, \"layout\": {\"annotationdefaults\": {\"arrowhead\": 0, \"arrowwidth\": 1}, \"autotypenumbers\": \"strict\", \"coloraxis\": {\"colorbar\": {\"outlinewidth\": 1, \"tickcolor\": \"rgb(36,36,36)\", \"ticks\": \"outside\"}}, \"colorscale\": {\"diverging\": [[0.0, \"rgb(103,0,31)\"], [0.1, \"rgb(178,24,43)\"], [0.2, \"rgb(214,96,77)\"], [0.3, \"rgb(244,165,130)\"], [0.4, \"rgb(253,219,199)\"], [0.5, \"rgb(247,247,247)\"], [0.6, \"rgb(209,229,240)\"], [0.7, \"rgb(146,197,222)\"], [0.8, \"rgb(67,147,195)\"], [0.9, \"rgb(33,102,172)\"], [1.0, \"rgb(5,48,97)\"]], \"sequential\": [[0.0, \"#440154\"], [0.1111111111111111, \"#482878\"], [0.2222222222222222, \"#3e4989\"], [0.3333333333333333, \"#31688e\"], [0.4444444444444444, \"#26828e\"], [0.5555555555555556, \"#1f9e89\"], [0.6666666666666666, \"#35b779\"], [0.7777777777777778, \"#6ece58\"], [0.8888888888888888, \"#b5de2b\"], [1.0, \"#fde725\"]], \"sequentialminus\": [[0.0, \"#440154\"], [0.1111111111111111, \"#482878\"], [0.2222222222222222, \"#3e4989\"], [0.3333333333333333, \"#31688e\"], [0.4444444444444444, \"#26828e\"], [0.5555555555555556, \"#1f9e89\"], [0.6666666666666666, \"#35b779\"], [0.7777777777777778, \"#6ece58\"], [0.8888888888888888, \"#b5de2b\"], [1.0, \"#fde725\"]]}, \"colorway\": [\"#1F77B4\", \"#FF7F0E\", \"#2CA02C\", \"#D62728\", \"#9467BD\", \"#8C564B\", \"#E377C2\", \"#7F7F7F\", \"#BCBD22\", \"#17BECF\"], \"font\": {\"color\": \"rgb(36,36,36)\"}, \"geo\": {\"bgcolor\": \"white\", \"lakecolor\": \"white\", \"landcolor\": \"white\", \"showlakes\": true, \"showland\": true, \"subunitcolor\": \"white\"}, \"hoverlabel\": {\"align\": \"left\"}, \"hovermode\": \"closest\", \"mapbox\": {\"style\": \"light\"}, \"margin\": {\"b\": 0, \"l\": 20, \"r\": 20, \"t\": 40}, \"paper_bgcolor\": \"white\", \"plot_bgcolor\": \"white\", \"polar\": {\"angularaxis\": {\"gridcolor\": \"rgb(232,232,232)\", \"linecolor\": \"rgb(36,36,36)\", \"showgrid\": false, \"showline\": true, \"ticks\": \"outside\"}, \"bgcolor\": \"white\", \"radialaxis\": {\"gridcolor\": \"rgb(232,232,232)\", \"linecolor\": \"rgb(36,36,36)\", \"showgrid\": false, \"showline\": true, \"ticks\": \"outside\"}}, \"scene\": {\"xaxis\": {\"backgroundcolor\": \"white\", \"gridcolor\": \"rgb(232,232,232)\", \"gridwidth\": 2, \"linecolor\": \"rgb(36,36,36)\", \"showbackground\": true, \"showgrid\": false, \"showline\": true, \"ticks\": \"outside\", \"zeroline\": false, \"zerolinecolor\": \"rgb(36,36,36)\"}, \"yaxis\": {\"backgroundcolor\": \"white\", \"gridcolor\": \"rgb(232,232,232)\", \"gridwidth\": 2, \"linecolor\": \"rgb(36,36,36)\", \"showbackground\": true, \"showgrid\": false, \"showline\": true, \"ticks\": \"outside\", \"zeroline\": false, \"zerolinecolor\": \"rgb(36,36,36)\"}, \"zaxis\": {\"backgroundcolor\": \"white\", \"gridcolor\": \"rgb(232,232,232)\", \"gridwidth\": 2, \"linecolor\": \"rgb(36,36,36)\", \"showbackground\": true, \"showgrid\": false, \"showline\": true, \"ticks\": \"outside\", \"zeroline\": false, \"zerolinecolor\": \"rgb(36,36,36)\"}}, \"shapedefaults\": {\"fillcolor\": \"black\", \"line\": {\"width\": 0}, \"opacity\": 0.3}, \"ternary\": {\"aaxis\": {\"gridcolor\": \"rgb(232,232,232)\", \"linecolor\": \"rgb(36,36,36)\", \"showgrid\": false, \"showline\": true, \"ticks\": \"outside\"}, \"baxis\": {\"gridcolor\": \"rgb(232,232,232)\", \"linecolor\": \"rgb(36,36,36)\", \"showgrid\": false, \"showline\": true, \"ticks\": \"outside\"}, \"bgcolor\": \"white\", \"caxis\": {\"gridcolor\": \"rgb(232,232,232)\", \"linecolor\": \"rgb(36,36,36)\", \"showgrid\": false, \"showline\": true, \"ticks\": \"outside\"}}, \"title\": {\"x\": 0.05}, \"xaxis\": {\"automargin\": true, \"gridcolor\": \"rgb(232,232,232)\", \"linecolor\": \"rgb(36,36,36)\", \"showgrid\": false, \"showline\": true, \"ticks\": \"outside\", \"title\": {\"standoff\": 15}, \"zeroline\": false, \"zerolinecolor\": \"rgb(36,36,36)\"}, \"yaxis\": {\"automargin\": true, \"gridcolor\": \"rgb(232,232,232)\", \"linecolor\": \"rgb(36,36,36)\", \"showgrid\": false, \"showline\": true, \"ticks\": \"outside\", \"title\": {\"standoff\": 15}, \"zeroline\": false, \"zerolinecolor\": \"rgb(36,36,36)\"}}}, \"title\": {\"text\": \"$\\\\text{Sum Of Squared Distances As Function Of }k$\"}, \"width\": 800, \"xaxis\": {\"anchor\": \"y\", \"domain\": [0.0, 0.45]}, \"xaxis2\": {\"anchor\": \"y2\", \"domain\": [0.55, 1.0]}, \"yaxis\": {\"anchor\": \"x\", \"domain\": [0.0, 1.0]}, \"yaxis2\": {\"anchor\": \"x2\", \"domain\": [0.0, 1.0]}},                        {\"responsive\": true}                    ).then(function(){\n",
       "                            \n",
       "var gd = document.getElementById('12be48ad-aed8-4f58-b266-1c71e59993f5');\n",
       "var x = new MutationObserver(function (mutations, observer) {{\n",
       "        var display = window.getComputedStyle(gd).display;\n",
       "        if (!display || display === 'none') {{\n",
       "            console.log([gd, 'removed!']);\n",
       "            Plotly.purge(gd);\n",
       "            observer.disconnect();\n",
       "        }}\n",
       "}});\n",
       "\n",
       "// Listen for the removal of the full notebook cells\n",
       "var notebookContainer = gd.closest('#notebook-container');\n",
       "if (notebookContainer) {{\n",
       "    x.observe(notebookContainer, {childList: true});\n",
       "}}\n",
       "\n",
       "// Listen for the clearing of the current output cell\n",
       "var outputEl = gd.closest('.output');\n",
       "if (outputEl) {{\n",
       "    x.observe(outputEl, {childList: true});\n",
       "}}\n",
       "\n",
       "                        })                };                });            </script>        </div>"
      ]
     },
     "metadata": {},
     "output_type": "display_data"
    }
   ],
   "source": [
    "from sklearn.cluster import KMeans\n",
    "\n",
    "X = np.concatenate([np.random.multivariate_normal([0, 0], [[1,0],[0,1]], 30),\n",
    "                    np.random.multivariate_normal([6,0], [[1,0],[0,1]], 30),\n",
    "                    np.random.multivariate_normal([2,4], [[1,0],[0,1]], 30),\n",
    "                    np.random.multivariate_normal([5.5,5], [[1,0],[0,1]], 30)])\n",
    "\n",
    "ks = list(range(1, 21))\n",
    "costs = [KMeans(n_clusters=k, init=\"random\").fit(X).inertia_ for k in ks]\n",
    "\n",
    "fig = make_subplots(1, 2)\n",
    "fig.add_trace(go.Scatter(x=X[:,0], y=X[:,1], mode=\"markers\", marker=dict(color=\"black\", opacity=.7), showlegend=False), row=1, col=1)\n",
    "fig.add_trace(go.Scatter(x=ks, y=costs, mode=\"markers+lines\", showlegend=False), row=1, col=2)\n",
    "fig.update_layout(height=300, width=800, title_text=r\"$\\text{Sum Of Squared Distances As Function Of }k$\")\n",
    "fig.write_image(\"../kmeans-selecting-k.png\")\n",
    "fig.show()\n"
   ]
  }
 ],
 "metadata": {
  "kernelspec": {
   "display_name": "Python 3",
   "language": "python",
   "name": "python3"
  },
  "language_info": {
   "codemirror_mode": {
    "name": "ipython",
    "version": 3
   },
   "file_extension": ".py",
   "mimetype": "text/x-python",
   "name": "python",
   "nbconvert_exporter": "python",
   "pygments_lexer": "ipython3",
   "version": "3.7.10"
  }
 },
 "nbformat": 4,
 "nbformat_minor": 4
}
